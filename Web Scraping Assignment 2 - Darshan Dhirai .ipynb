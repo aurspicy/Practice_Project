{
 "cells": [
  {
   "cell_type": "code",
   "execution_count": 46,
   "metadata": {},
   "outputs": [
    {
     "name": "stdout",
     "output_type": "stream",
     "text": [
      "Requirement already satisfied: selenium in c:\\users\\ddhir\\anaconda3\\lib\\site-packages (3.141.0)\n",
      "Requirement already satisfied: urllib3 in c:\\users\\ddhir\\anaconda3\\lib\\site-packages (from selenium) (1.25.11)\n"
     ]
    }
   ],
   "source": [
    "!pip install selenium"
   ]
  },
  {
   "cell_type": "code",
   "execution_count": 47,
   "metadata": {},
   "outputs": [],
   "source": [
    "import pandas as pd\n",
    "from selenium import webdriver"
   ]
  },
  {
   "cell_type": "markdown",
   "metadata": {},
   "source": [
    "# Answer to Q1"
   ]
  },
  {
   "cell_type": "code",
   "execution_count": 74,
   "metadata": {},
   "outputs": [],
   "source": [
    "driver = webdriver.Edge(r'C:\\Users\\ddhir\\Downloads\\edgedriver_win64\\msedgedriver.exe')"
   ]
  },
  {
   "cell_type": "code",
   "execution_count": 75,
   "metadata": {},
   "outputs": [],
   "source": [
    "url = 'https://www.naukri.com/'\n",
    "driver.get(url)"
   ]
  },
  {
   "cell_type": "code",
   "execution_count": 51,
   "metadata": {},
   "outputs": [],
   "source": [
    "searchj = driver.find_element_by_id('qsb-keyword-sugg')\n",
    "searchl = driver.find_element_by_id('qsb-location-sugg')\n",
    "searchj.send_keys('Data Analyst')\n",
    "searchl.send_keys('Bangalore')\n",
    "searchbutton = driver.find_element_by_xpath('//button[@class=\"btn\"]')\n",
    "searchbutton.click()"
   ]
  },
  {
   "cell_type": "code",
   "execution_count": 52,
   "metadata": {},
   "outputs": [
    {
     "data": {
      "text/plain": [
       "[<selenium.webdriver.remote.webelement.WebElement (session=\"0147417d2bba7f6f649bd49e0aca0bbf\", element=\"e1216223-2ed5-422f-a1c8-f4210d526469\")>,\n",
       " <selenium.webdriver.remote.webelement.WebElement (session=\"0147417d2bba7f6f649bd49e0aca0bbf\", element=\"71b437e3-f3fb-4dcd-8807-7891d6d49b1b\")>,\n",
       " <selenium.webdriver.remote.webelement.WebElement (session=\"0147417d2bba7f6f649bd49e0aca0bbf\", element=\"7937a3b9-2a74-4b3a-acd5-716473907171\")>,\n",
       " <selenium.webdriver.remote.webelement.WebElement (session=\"0147417d2bba7f6f649bd49e0aca0bbf\", element=\"a6238e4b-5f98-40f2-8b68-108466cae621\")>,\n",
       " <selenium.webdriver.remote.webelement.WebElement (session=\"0147417d2bba7f6f649bd49e0aca0bbf\", element=\"823bda65-034a-43c9-b0d7-6da16507475b\")>,\n",
       " <selenium.webdriver.remote.webelement.WebElement (session=\"0147417d2bba7f6f649bd49e0aca0bbf\", element=\"5cee5a03-ad2c-4462-a407-3e3a014d7311\")>,\n",
       " <selenium.webdriver.remote.webelement.WebElement (session=\"0147417d2bba7f6f649bd49e0aca0bbf\", element=\"2eb6cac9-0639-4457-9c81-908f6528c11d\")>,\n",
       " <selenium.webdriver.remote.webelement.WebElement (session=\"0147417d2bba7f6f649bd49e0aca0bbf\", element=\"4284ae41-51e4-4cff-95fe-77b19c51d507\")>,\n",
       " <selenium.webdriver.remote.webelement.WebElement (session=\"0147417d2bba7f6f649bd49e0aca0bbf\", element=\"52fcee2d-e91a-4cf8-b808-c8a0f272b9f3\")>,\n",
       " <selenium.webdriver.remote.webelement.WebElement (session=\"0147417d2bba7f6f649bd49e0aca0bbf\", element=\"953955c8-1c54-408a-b186-308e9213297e\")>,\n",
       " <selenium.webdriver.remote.webelement.WebElement (session=\"0147417d2bba7f6f649bd49e0aca0bbf\", element=\"38cdbf61-6131-4446-8f83-e6ffda658ad6\")>,\n",
       " <selenium.webdriver.remote.webelement.WebElement (session=\"0147417d2bba7f6f649bd49e0aca0bbf\", element=\"b242f7d3-6492-4e03-89d1-5cd3e1d02015\")>,\n",
       " <selenium.webdriver.remote.webelement.WebElement (session=\"0147417d2bba7f6f649bd49e0aca0bbf\", element=\"358a5234-fabd-49d9-aaf5-5990feaacbbe\")>,\n",
       " <selenium.webdriver.remote.webelement.WebElement (session=\"0147417d2bba7f6f649bd49e0aca0bbf\", element=\"77794884-a5aa-4b7c-95d1-00ad6af47985\")>,\n",
       " <selenium.webdriver.remote.webelement.WebElement (session=\"0147417d2bba7f6f649bd49e0aca0bbf\", element=\"92fbe2bf-7baf-4879-b27e-be5d30678f7c\")>,\n",
       " <selenium.webdriver.remote.webelement.WebElement (session=\"0147417d2bba7f6f649bd49e0aca0bbf\", element=\"8a1f78b4-32c0-40bb-8dd6-e881318595aa\")>,\n",
       " <selenium.webdriver.remote.webelement.WebElement (session=\"0147417d2bba7f6f649bd49e0aca0bbf\", element=\"d8dc9581-3ab1-47e3-8226-de6a4cd5902d\")>,\n",
       " <selenium.webdriver.remote.webelement.WebElement (session=\"0147417d2bba7f6f649bd49e0aca0bbf\", element=\"2b1e0cc8-c36c-4c4f-ad32-0f05407965fb\")>,\n",
       " <selenium.webdriver.remote.webelement.WebElement (session=\"0147417d2bba7f6f649bd49e0aca0bbf\", element=\"fdd1212d-7d46-4afd-aeee-e837a6145807\")>,\n",
       " <selenium.webdriver.remote.webelement.WebElement (session=\"0147417d2bba7f6f649bd49e0aca0bbf\", element=\"bc8bc773-b13a-4989-af10-e4c38a21acb5\")>]"
      ]
     },
     "execution_count": 52,
     "metadata": {},
     "output_type": "execute_result"
    }
   ],
   "source": [
    "cname = driver.find_elements_by_xpath('//a[@class=\"subTitle ellipsis fleft\"]')\n",
    "cname"
   ]
  },
  {
   "cell_type": "code",
   "execution_count": 53,
   "metadata": {},
   "outputs": [
    {
     "data": {
      "text/plain": [
       "['Philips India Limited',\n",
       " 'CGI Information Systems and Management Consultants',\n",
       " 'Infobahn Softworld Inc.',\n",
       " 'WEIWO Communication Pvt. Ltd.',\n",
       " 'Trigent Software',\n",
       " 'Trigent Software',\n",
       " 'India Medtronic Pvt. Ltd,.',\n",
       " 'SMEDC SERVICES PRIVATE LIMITED',\n",
       " 'Allegis Services India Pvt. Ltd.',\n",
       " 'Allegis Services India Pvt. Ltd.']"
      ]
     },
     "execution_count": 53,
     "metadata": {},
     "output_type": "execute_result"
    }
   ],
   "source": [
    "comp = []\n",
    "m = 1\n",
    "for i in cname:\n",
    "    if m<11: \n",
    "        comp.append(i.text)\n",
    "        m+=1\n",
    "    else:\n",
    "        break\n",
    "comp"
   ]
  },
  {
   "cell_type": "code",
   "execution_count": 16,
   "metadata": {
    "scrolled": true
   },
   "outputs": [
    {
     "data": {
      "text/plain": [
       "[<selenium.webdriver.remote.webelement.WebElement (session=\"456df1dc9c7546703843effc2190959a\", element=\"c95cb136-c488-4084-a8b2-78626b9a3486\")>,\n",
       " <selenium.webdriver.remote.webelement.WebElement (session=\"456df1dc9c7546703843effc2190959a\", element=\"e6b96352-c0d0-4c7d-ac5c-7c951cbac9f4\")>,\n",
       " <selenium.webdriver.remote.webelement.WebElement (session=\"456df1dc9c7546703843effc2190959a\", element=\"1d5c43ba-e54f-4bd0-9a26-2ebb2976d13d\")>,\n",
       " <selenium.webdriver.remote.webelement.WebElement (session=\"456df1dc9c7546703843effc2190959a\", element=\"51894a7e-4710-4365-a9d1-5707710ae99c\")>,\n",
       " <selenium.webdriver.remote.webelement.WebElement (session=\"456df1dc9c7546703843effc2190959a\", element=\"aa3c676a-8b33-4fa2-9cf8-fe893290548c\")>,\n",
       " <selenium.webdriver.remote.webelement.WebElement (session=\"456df1dc9c7546703843effc2190959a\", element=\"46107add-9c43-474c-9c64-6371d87bd941\")>,\n",
       " <selenium.webdriver.remote.webelement.WebElement (session=\"456df1dc9c7546703843effc2190959a\", element=\"48535f7a-e2b9-4cbd-8803-68223afea788\")>,\n",
       " <selenium.webdriver.remote.webelement.WebElement (session=\"456df1dc9c7546703843effc2190959a\", element=\"2d5cb21d-2e15-4e69-a7ad-0f11b861c9cb\")>,\n",
       " <selenium.webdriver.remote.webelement.WebElement (session=\"456df1dc9c7546703843effc2190959a\", element=\"a819f2dc-805f-4d30-8e57-c9d56d844984\")>,\n",
       " <selenium.webdriver.remote.webelement.WebElement (session=\"456df1dc9c7546703843effc2190959a\", element=\"d253581b-47e6-4fbf-b1ba-a7fd0c202110\")>,\n",
       " <selenium.webdriver.remote.webelement.WebElement (session=\"456df1dc9c7546703843effc2190959a\", element=\"5db4c44a-750d-4337-93b0-b0dc901291e8\")>,\n",
       " <selenium.webdriver.remote.webelement.WebElement (session=\"456df1dc9c7546703843effc2190959a\", element=\"9af4f603-456f-4a30-9a77-9b1b2a8127c7\")>,\n",
       " <selenium.webdriver.remote.webelement.WebElement (session=\"456df1dc9c7546703843effc2190959a\", element=\"40fbccf1-530d-4871-87a0-1e611044e234\")>,\n",
       " <selenium.webdriver.remote.webelement.WebElement (session=\"456df1dc9c7546703843effc2190959a\", element=\"f990bee0-5f88-4b43-ad14-0d3447b573ac\")>,\n",
       " <selenium.webdriver.remote.webelement.WebElement (session=\"456df1dc9c7546703843effc2190959a\", element=\"53d01cb1-f128-465e-a0f7-50e9187a53f3\")>,\n",
       " <selenium.webdriver.remote.webelement.WebElement (session=\"456df1dc9c7546703843effc2190959a\", element=\"193ce5bc-0114-404d-a24f-69b42f847758\")>,\n",
       " <selenium.webdriver.remote.webelement.WebElement (session=\"456df1dc9c7546703843effc2190959a\", element=\"152c5240-242d-4c41-9ac8-d46bd9f34ef1\")>,\n",
       " <selenium.webdriver.remote.webelement.WebElement (session=\"456df1dc9c7546703843effc2190959a\", element=\"86f69332-894d-4f1f-acc5-2cdd1d679418\")>,\n",
       " <selenium.webdriver.remote.webelement.WebElement (session=\"456df1dc9c7546703843effc2190959a\", element=\"67e3755d-015e-4cb4-8c05-52f5ec923ee4\")>,\n",
       " <selenium.webdriver.remote.webelement.WebElement (session=\"456df1dc9c7546703843effc2190959a\", element=\"565a0f5f-389a-47fb-9b47-6154a3fb2948\")>]"
      ]
     },
     "execution_count": 16,
     "metadata": {},
     "output_type": "execute_result"
    }
   ],
   "source": [
    "jtit = driver.find_elements_by_xpath('//a[@class=\"title fw500 ellipsis\"]')\n",
    "jtit"
   ]
  },
  {
   "cell_type": "code",
   "execution_count": 18,
   "metadata": {},
   "outputs": [
    {
     "data": {
      "text/plain": [
       "['Business Data Analyst',\n",
       " 'Business Data Analyst',\n",
       " 'Data Analyst/Business Analyst-Gurgaon/Bangalore/Mumbai (only Females)',\n",
       " 'Business Data Analyst II',\n",
       " 'Data Analyst',\n",
       " 'Data Analyst',\n",
       " 'Senior Data Analyst',\n",
       " 'Data Analyst',\n",
       " 'Data Analyst',\n",
       " 'Data Analyst']"
      ]
     },
     "execution_count": 18,
     "metadata": {},
     "output_type": "execute_result"
    }
   ],
   "source": [
    "job_title = []\n",
    "y = 1\n",
    "for i in jtit:\n",
    "    if y<11: \n",
    "        job_title.append(i.text)\n",
    "        y+=1\n",
    "    else:\n",
    "        break\n",
    "job_title"
   ]
  },
  {
   "cell_type": "code",
   "execution_count": 19,
   "metadata": {},
   "outputs": [
    {
     "data": {
      "text/plain": [
       "[<selenium.webdriver.remote.webelement.WebElement (session=\"456df1dc9c7546703843effc2190959a\", element=\"d80662f8-3d47-4c35-99ea-d70a11604d43\")>,\n",
       " <selenium.webdriver.remote.webelement.WebElement (session=\"456df1dc9c7546703843effc2190959a\", element=\"3cb44be5-6ace-4561-860b-6696d7dd9a3b\")>,\n",
       " <selenium.webdriver.remote.webelement.WebElement (session=\"456df1dc9c7546703843effc2190959a\", element=\"1502c418-cd1e-4573-8816-7905fa7c6777\")>,\n",
       " <selenium.webdriver.remote.webelement.WebElement (session=\"456df1dc9c7546703843effc2190959a\", element=\"77d2e85f-e760-43ba-83b8-5667d100db94\")>,\n",
       " <selenium.webdriver.remote.webelement.WebElement (session=\"456df1dc9c7546703843effc2190959a\", element=\"13df8152-68f8-4002-9b2e-cc04ad924f2e\")>,\n",
       " <selenium.webdriver.remote.webelement.WebElement (session=\"456df1dc9c7546703843effc2190959a\", element=\"680cabc8-fdb2-468a-8e66-89a1443bf144\")>,\n",
       " <selenium.webdriver.remote.webelement.WebElement (session=\"456df1dc9c7546703843effc2190959a\", element=\"8520e01f-717c-42a5-a655-0bd29cab12dd\")>,\n",
       " <selenium.webdriver.remote.webelement.WebElement (session=\"456df1dc9c7546703843effc2190959a\", element=\"bab6e00e-2a06-49d9-b418-eea3bbe0284a\")>,\n",
       " <selenium.webdriver.remote.webelement.WebElement (session=\"456df1dc9c7546703843effc2190959a\", element=\"54391566-2c0c-4443-b8ed-96be5d432795\")>,\n",
       " <selenium.webdriver.remote.webelement.WebElement (session=\"456df1dc9c7546703843effc2190959a\", element=\"4833b773-6b93-488c-bb89-0dedd4cb51ee\")>,\n",
       " <selenium.webdriver.remote.webelement.WebElement (session=\"456df1dc9c7546703843effc2190959a\", element=\"d96367f1-681d-468d-96dc-aadbbe42002b\")>,\n",
       " <selenium.webdriver.remote.webelement.WebElement (session=\"456df1dc9c7546703843effc2190959a\", element=\"8a04974c-a11e-4b6c-b9ca-289a31fb90cf\")>,\n",
       " <selenium.webdriver.remote.webelement.WebElement (session=\"456df1dc9c7546703843effc2190959a\", element=\"efb18321-2615-45a0-ba33-04bfda6f2b4c\")>,\n",
       " <selenium.webdriver.remote.webelement.WebElement (session=\"456df1dc9c7546703843effc2190959a\", element=\"2482d47a-3776-413a-896a-e76d1fc7fe65\")>,\n",
       " <selenium.webdriver.remote.webelement.WebElement (session=\"456df1dc9c7546703843effc2190959a\", element=\"43053cd7-f538-4e07-a21c-e2d14195cae4\")>,\n",
       " <selenium.webdriver.remote.webelement.WebElement (session=\"456df1dc9c7546703843effc2190959a\", element=\"e7e6c954-304f-446e-bdfc-0f84b81e3216\")>,\n",
       " <selenium.webdriver.remote.webelement.WebElement (session=\"456df1dc9c7546703843effc2190959a\", element=\"2e17c395-0c96-43ed-8fce-322cd5f16879\")>,\n",
       " <selenium.webdriver.remote.webelement.WebElement (session=\"456df1dc9c7546703843effc2190959a\", element=\"3b67ee78-61db-4f01-93ae-da001178683b\")>,\n",
       " <selenium.webdriver.remote.webelement.WebElement (session=\"456df1dc9c7546703843effc2190959a\", element=\"f5c5c9a3-1443-4dab-a27b-e94d17abc466\")>,\n",
       " <selenium.webdriver.remote.webelement.WebElement (session=\"456df1dc9c7546703843effc2190959a\", element=\"ac7ccd93-53ea-4542-b080-8ef3c9619e81\")>]"
      ]
     },
     "execution_count": 19,
     "metadata": {},
     "output_type": "execute_result"
    }
   ],
   "source": [
    "exp = driver.find_elements_by_xpath('//li[@class=\"fleft grey-text br2 placeHolderLi experience\"]')\n",
    "exp"
   ]
  },
  {
   "cell_type": "code",
   "execution_count": 20,
   "metadata": {},
   "outputs": [
    {
     "data": {
      "text/plain": [
       "['3-5 Yrs',\n",
       " '3-5 Yrs',\n",
       " '1-4 Yrs',\n",
       " '5-8 Yrs',\n",
       " '4-8 Yrs',\n",
       " '5-9 Yrs',\n",
       " '5-8 Yrs',\n",
       " '2-5 Yrs',\n",
       " '3-5 Yrs',\n",
       " '6-8 Yrs']"
      ]
     },
     "execution_count": 20,
     "metadata": {},
     "output_type": "execute_result"
    }
   ],
   "source": [
    "experience = []\n",
    "z = 1   \n",
    "for i in exp:\n",
    "    if z<11: \n",
    "        experience.append(i.text)\n",
    "        z+=1\n",
    "    else:\n",
    "        break\n",
    "experience"
   ]
  },
  {
   "cell_type": "code",
   "execution_count": 25,
   "metadata": {},
   "outputs": [
    {
     "data": {
      "text/plain": [
       "[<selenium.webdriver.remote.webelement.WebElement (session=\"456df1dc9c7546703843effc2190959a\", element=\"134b113b-e73f-44d3-ad3b-bede5ca65145\")>,\n",
       " <selenium.webdriver.remote.webelement.WebElement (session=\"456df1dc9c7546703843effc2190959a\", element=\"62340218-3250-4b40-a767-2b132fdd7054\")>,\n",
       " <selenium.webdriver.remote.webelement.WebElement (session=\"456df1dc9c7546703843effc2190959a\", element=\"19eba6fe-a457-4238-ac42-5ece950de5bd\")>,\n",
       " <selenium.webdriver.remote.webelement.WebElement (session=\"456df1dc9c7546703843effc2190959a\", element=\"c1acd4b6-2464-497a-b6b7-86501d0884ea\")>,\n",
       " <selenium.webdriver.remote.webelement.WebElement (session=\"456df1dc9c7546703843effc2190959a\", element=\"e39c8d3f-8fa2-4a49-9ce0-6bb1448c073d\")>,\n",
       " <selenium.webdriver.remote.webelement.WebElement (session=\"456df1dc9c7546703843effc2190959a\", element=\"2193a162-529e-4ec8-9c1b-0b069da5fb59\")>,\n",
       " <selenium.webdriver.remote.webelement.WebElement (session=\"456df1dc9c7546703843effc2190959a\", element=\"42f0c56d-0b30-40a6-a3b7-968ba6ddb22d\")>,\n",
       " <selenium.webdriver.remote.webelement.WebElement (session=\"456df1dc9c7546703843effc2190959a\", element=\"a4e5c341-81ee-4e52-91c9-2d26ea0cf8f8\")>,\n",
       " <selenium.webdriver.remote.webelement.WebElement (session=\"456df1dc9c7546703843effc2190959a\", element=\"e4050553-156c-4e9f-82da-35358bada6f8\")>,\n",
       " <selenium.webdriver.remote.webelement.WebElement (session=\"456df1dc9c7546703843effc2190959a\", element=\"85586194-7c93-4c3b-a8f7-b3de7686c0a5\")>,\n",
       " <selenium.webdriver.remote.webelement.WebElement (session=\"456df1dc9c7546703843effc2190959a\", element=\"36447971-00c6-4a29-9528-df08dd881dcd\")>,\n",
       " <selenium.webdriver.remote.webelement.WebElement (session=\"456df1dc9c7546703843effc2190959a\", element=\"fa180712-36ca-40d0-a822-408caec14307\")>,\n",
       " <selenium.webdriver.remote.webelement.WebElement (session=\"456df1dc9c7546703843effc2190959a\", element=\"246db061-3170-4d2f-8031-13b2eb1f51ef\")>,\n",
       " <selenium.webdriver.remote.webelement.WebElement (session=\"456df1dc9c7546703843effc2190959a\", element=\"30606404-ca91-47a7-ae61-0986e5d646cc\")>,\n",
       " <selenium.webdriver.remote.webelement.WebElement (session=\"456df1dc9c7546703843effc2190959a\", element=\"21a6c03d-720b-4947-ad18-3a23e8964dbf\")>,\n",
       " <selenium.webdriver.remote.webelement.WebElement (session=\"456df1dc9c7546703843effc2190959a\", element=\"3fa3cefd-5e6b-4b6e-be43-5457438d87ff\")>,\n",
       " <selenium.webdriver.remote.webelement.WebElement (session=\"456df1dc9c7546703843effc2190959a\", element=\"2cfed19f-10e3-401a-83ab-3276c7dd6faa\")>,\n",
       " <selenium.webdriver.remote.webelement.WebElement (session=\"456df1dc9c7546703843effc2190959a\", element=\"5b3852f0-37d7-438b-b25b-0154eccc7de0\")>,\n",
       " <selenium.webdriver.remote.webelement.WebElement (session=\"456df1dc9c7546703843effc2190959a\", element=\"7bedbecf-af57-4159-bc70-936281b024b2\")>,\n",
       " <selenium.webdriver.remote.webelement.WebElement (session=\"456df1dc9c7546703843effc2190959a\", element=\"d8f601f0-8f42-47e8-a468-6c19bc01e221\")>]"
      ]
     },
     "execution_count": 25,
     "metadata": {},
     "output_type": "execute_result"
    }
   ],
   "source": [
    "sal = driver.find_elements_by_xpath('//li[@class=\"fleft grey-text br2 placeHolderLi salary\"]')\n",
    "sal"
   ]
  },
  {
   "cell_type": "code",
   "execution_count": 26,
   "metadata": {},
   "outputs": [
    {
     "data": {
      "text/plain": [
       "['Not disclosed',\n",
       " 'Not disclosed',\n",
       " '9,50,000 - 11,00,000 PA.',\n",
       " 'Not disclosed',\n",
       " 'Not disclosed',\n",
       " 'Not disclosed',\n",
       " 'Not disclosed',\n",
       " 'Not disclosed',\n",
       " 'Not disclosed',\n",
       " 'Not disclosed']"
      ]
     },
     "execution_count": 26,
     "metadata": {},
     "output_type": "execute_result"
    }
   ],
   "source": [
    "Salary = []\n",
    "x = 1   \n",
    "for i in sal:\n",
    "    if x<11: \n",
    "        Salary.append(i.text)\n",
    "        x+=1\n",
    "    else:\n",
    "        break\n",
    "Salary"
   ]
  },
  {
   "cell_type": "code",
   "execution_count": 27,
   "metadata": {},
   "outputs": [
    {
     "data": {
      "text/plain": [
       "[<selenium.webdriver.remote.webelement.WebElement (session=\"456df1dc9c7546703843effc2190959a\", element=\"34a491ba-dbf0-40f9-8901-3baa2d7c3f89\")>,\n",
       " <selenium.webdriver.remote.webelement.WebElement (session=\"456df1dc9c7546703843effc2190959a\", element=\"93556c0c-af95-4eb7-833f-d1d10e19912e\")>,\n",
       " <selenium.webdriver.remote.webelement.WebElement (session=\"456df1dc9c7546703843effc2190959a\", element=\"d26d7b4a-5095-42de-9474-a19721ab7287\")>,\n",
       " <selenium.webdriver.remote.webelement.WebElement (session=\"456df1dc9c7546703843effc2190959a\", element=\"124a0e2a-a5d2-4301-8341-75e95c1266de\")>,\n",
       " <selenium.webdriver.remote.webelement.WebElement (session=\"456df1dc9c7546703843effc2190959a\", element=\"90480f20-d2ea-46c8-89a6-edced9f3a47f\")>,\n",
       " <selenium.webdriver.remote.webelement.WebElement (session=\"456df1dc9c7546703843effc2190959a\", element=\"99a524c4-0126-4b2b-9c5c-e2f3146bebba\")>,\n",
       " <selenium.webdriver.remote.webelement.WebElement (session=\"456df1dc9c7546703843effc2190959a\", element=\"3871dc3c-7dd6-4cd3-8aba-57b5b9e77a53\")>,\n",
       " <selenium.webdriver.remote.webelement.WebElement (session=\"456df1dc9c7546703843effc2190959a\", element=\"86c04e40-c0a6-48d7-aced-2fe8775dcbb2\")>,\n",
       " <selenium.webdriver.remote.webelement.WebElement (session=\"456df1dc9c7546703843effc2190959a\", element=\"325b9524-39ff-4d6c-a28b-3340431320ca\")>,\n",
       " <selenium.webdriver.remote.webelement.WebElement (session=\"456df1dc9c7546703843effc2190959a\", element=\"d827d3a0-ebff-4584-8e7f-90aa537a4022\")>,\n",
       " <selenium.webdriver.remote.webelement.WebElement (session=\"456df1dc9c7546703843effc2190959a\", element=\"eac8c8f5-c3dd-4631-8d1f-f6938fbf0922\")>,\n",
       " <selenium.webdriver.remote.webelement.WebElement (session=\"456df1dc9c7546703843effc2190959a\", element=\"4c8a3d1d-659f-42e7-9187-eb204cdea509\")>,\n",
       " <selenium.webdriver.remote.webelement.WebElement (session=\"456df1dc9c7546703843effc2190959a\", element=\"bfd667a1-3380-4326-999b-b02e9e6c9560\")>,\n",
       " <selenium.webdriver.remote.webelement.WebElement (session=\"456df1dc9c7546703843effc2190959a\", element=\"b3dff92c-61c0-4cb3-8c63-89d9e903ba7d\")>,\n",
       " <selenium.webdriver.remote.webelement.WebElement (session=\"456df1dc9c7546703843effc2190959a\", element=\"125d450d-c46e-4a4b-9677-e2e7622a5c22\")>,\n",
       " <selenium.webdriver.remote.webelement.WebElement (session=\"456df1dc9c7546703843effc2190959a\", element=\"77cc0224-0a8b-42b4-be18-c491f66dd108\")>,\n",
       " <selenium.webdriver.remote.webelement.WebElement (session=\"456df1dc9c7546703843effc2190959a\", element=\"4c92171d-a4d1-40e5-9c64-bf4f29f012d7\")>,\n",
       " <selenium.webdriver.remote.webelement.WebElement (session=\"456df1dc9c7546703843effc2190959a\", element=\"63dd7cc3-11e4-4e86-b92f-79751a1a41b8\")>,\n",
       " <selenium.webdriver.remote.webelement.WebElement (session=\"456df1dc9c7546703843effc2190959a\", element=\"8230b09e-e28f-4b30-8ff2-e7eeef45d9f8\")>,\n",
       " <selenium.webdriver.remote.webelement.WebElement (session=\"456df1dc9c7546703843effc2190959a\", element=\"93d05976-918e-41b5-ba6e-cded5536c19b\")>]"
      ]
     },
     "execution_count": 27,
     "metadata": {},
     "output_type": "execute_result"
    }
   ],
   "source": [
    "loc = driver.find_elements_by_xpath('//li[@class=\"fleft grey-text br2 placeHolderLi location\"]')\n",
    "loc"
   ]
  },
  {
   "cell_type": "code",
   "execution_count": 28,
   "metadata": {
    "scrolled": true
   },
   "outputs": [
    {
     "data": {
      "text/plain": [
       "['Bangalore/Bengaluru',\n",
       " 'Bangalore/Bengaluru',\n",
       " 'Gurgaon/Gurugram, Bangalore/Bengaluru, Mumbai (All Areas)',\n",
       " 'Bangalore/Bengaluru',\n",
       " 'Bangalore/Bengaluru(Ulsoor)',\n",
       " 'Bangalore/Bengaluru',\n",
       " 'Bangalore/Bengaluru\\n(WFH during Covid)',\n",
       " 'Bangalore/Bengaluru',\n",
       " 'Bangalore/Bengaluru',\n",
       " 'Bangalore/Bengaluru']"
      ]
     },
     "execution_count": 28,
     "metadata": {},
     "output_type": "execute_result"
    }
   ],
   "source": [
    "location = []\n",
    "w = 1\n",
    "for i in loc:\n",
    "    if w<11: \n",
    "        location.append(i.text)\n",
    "        w+=1\n",
    "    else:\n",
    "        break\n",
    "location"
   ]
  },
  {
   "cell_type": "code",
   "execution_count": 54,
   "metadata": {},
   "outputs": [
    {
     "data": {
      "text/html": [
       "<div>\n",
       "<style scoped>\n",
       "    .dataframe tbody tr th:only-of-type {\n",
       "        vertical-align: middle;\n",
       "    }\n",
       "\n",
       "    .dataframe tbody tr th {\n",
       "        vertical-align: top;\n",
       "    }\n",
       "\n",
       "    .dataframe thead th {\n",
       "        text-align: right;\n",
       "    }\n",
       "</style>\n",
       "<table border=\"1\" class=\"dataframe\">\n",
       "  <thead>\n",
       "    <tr style=\"text-align: right;\">\n",
       "      <th></th>\n",
       "      <th>Job title</th>\n",
       "      <th>Experience</th>\n",
       "      <th>Salary</th>\n",
       "      <th>Location</th>\n",
       "      <th>Company Name</th>\n",
       "    </tr>\n",
       "  </thead>\n",
       "  <tbody>\n",
       "    <tr>\n",
       "      <th>0</th>\n",
       "      <td>Business Data Analyst</td>\n",
       "      <td>3-5 Yrs</td>\n",
       "      <td>Not disclosed</td>\n",
       "      <td>Bangalore/Bengaluru</td>\n",
       "      <td>Philips India Limited</td>\n",
       "    </tr>\n",
       "    <tr>\n",
       "      <th>1</th>\n",
       "      <td>Business Data Analyst</td>\n",
       "      <td>3-5 Yrs</td>\n",
       "      <td>Not disclosed</td>\n",
       "      <td>Bangalore/Bengaluru</td>\n",
       "      <td>CGI Information Systems and Management Consult...</td>\n",
       "    </tr>\n",
       "    <tr>\n",
       "      <th>2</th>\n",
       "      <td>Data Analyst/Business Analyst-Gurgaon/Bangalor...</td>\n",
       "      <td>1-4 Yrs</td>\n",
       "      <td>9,50,000 - 11,00,000 PA.</td>\n",
       "      <td>Gurgaon/Gurugram, Bangalore/Bengaluru, Mumbai ...</td>\n",
       "      <td>Infobahn Softworld Inc.</td>\n",
       "    </tr>\n",
       "    <tr>\n",
       "      <th>3</th>\n",
       "      <td>Business Data Analyst II</td>\n",
       "      <td>5-8 Yrs</td>\n",
       "      <td>Not disclosed</td>\n",
       "      <td>Bangalore/Bengaluru</td>\n",
       "      <td>WEIWO Communication Pvt. Ltd.</td>\n",
       "    </tr>\n",
       "    <tr>\n",
       "      <th>4</th>\n",
       "      <td>Data Analyst</td>\n",
       "      <td>4-8 Yrs</td>\n",
       "      <td>Not disclosed</td>\n",
       "      <td>Bangalore/Bengaluru(Ulsoor)</td>\n",
       "      <td>Trigent Software</td>\n",
       "    </tr>\n",
       "    <tr>\n",
       "      <th>5</th>\n",
       "      <td>Data Analyst</td>\n",
       "      <td>5-9 Yrs</td>\n",
       "      <td>Not disclosed</td>\n",
       "      <td>Bangalore/Bengaluru</td>\n",
       "      <td>Trigent Software</td>\n",
       "    </tr>\n",
       "    <tr>\n",
       "      <th>6</th>\n",
       "      <td>Senior Data Analyst</td>\n",
       "      <td>5-8 Yrs</td>\n",
       "      <td>Not disclosed</td>\n",
       "      <td>Bangalore/Bengaluru\\n(WFH during Covid)</td>\n",
       "      <td>India Medtronic Pvt. Ltd,.</td>\n",
       "    </tr>\n",
       "    <tr>\n",
       "      <th>7</th>\n",
       "      <td>Data Analyst</td>\n",
       "      <td>2-5 Yrs</td>\n",
       "      <td>Not disclosed</td>\n",
       "      <td>Bangalore/Bengaluru</td>\n",
       "      <td>SMEDC SERVICES PRIVATE LIMITED</td>\n",
       "    </tr>\n",
       "    <tr>\n",
       "      <th>8</th>\n",
       "      <td>Data Analyst</td>\n",
       "      <td>3-5 Yrs</td>\n",
       "      <td>Not disclosed</td>\n",
       "      <td>Bangalore/Bengaluru</td>\n",
       "      <td>Allegis Services India Pvt. Ltd.</td>\n",
       "    </tr>\n",
       "    <tr>\n",
       "      <th>9</th>\n",
       "      <td>Data Analyst</td>\n",
       "      <td>6-8 Yrs</td>\n",
       "      <td>Not disclosed</td>\n",
       "      <td>Bangalore/Bengaluru</td>\n",
       "      <td>Allegis Services India Pvt. Ltd.</td>\n",
       "    </tr>\n",
       "  </tbody>\n",
       "</table>\n",
       "</div>"
      ],
      "text/plain": [
       "                                           Job title Experience  \\\n",
       "0                              Business Data Analyst    3-5 Yrs   \n",
       "1                              Business Data Analyst    3-5 Yrs   \n",
       "2  Data Analyst/Business Analyst-Gurgaon/Bangalor...    1-4 Yrs   \n",
       "3                           Business Data Analyst II    5-8 Yrs   \n",
       "4                                       Data Analyst    4-8 Yrs   \n",
       "5                                       Data Analyst    5-9 Yrs   \n",
       "6                                Senior Data Analyst    5-8 Yrs   \n",
       "7                                       Data Analyst    2-5 Yrs   \n",
       "8                                       Data Analyst    3-5 Yrs   \n",
       "9                                       Data Analyst    6-8 Yrs   \n",
       "\n",
       "                     Salary  \\\n",
       "0             Not disclosed   \n",
       "1             Not disclosed   \n",
       "2  9,50,000 - 11,00,000 PA.   \n",
       "3             Not disclosed   \n",
       "4             Not disclosed   \n",
       "5             Not disclosed   \n",
       "6             Not disclosed   \n",
       "7             Not disclosed   \n",
       "8             Not disclosed   \n",
       "9             Not disclosed   \n",
       "\n",
       "                                            Location  \\\n",
       "0                                Bangalore/Bengaluru   \n",
       "1                                Bangalore/Bengaluru   \n",
       "2  Gurgaon/Gurugram, Bangalore/Bengaluru, Mumbai ...   \n",
       "3                                Bangalore/Bengaluru   \n",
       "4                        Bangalore/Bengaluru(Ulsoor)   \n",
       "5                                Bangalore/Bengaluru   \n",
       "6            Bangalore/Bengaluru\\n(WFH during Covid)   \n",
       "7                                Bangalore/Bengaluru   \n",
       "8                                Bangalore/Bengaluru   \n",
       "9                                Bangalore/Bengaluru   \n",
       "\n",
       "                                        Company Name  \n",
       "0                              Philips India Limited  \n",
       "1  CGI Information Systems and Management Consult...  \n",
       "2                            Infobahn Softworld Inc.  \n",
       "3                      WEIWO Communication Pvt. Ltd.  \n",
       "4                                   Trigent Software  \n",
       "5                                   Trigent Software  \n",
       "6                         India Medtronic Pvt. Ltd,.  \n",
       "7                     SMEDC SERVICES PRIVATE LIMITED  \n",
       "8                   Allegis Services India Pvt. Ltd.  \n",
       "9                   Allegis Services India Pvt. Ltd.  "
      ]
     },
     "execution_count": 54,
     "metadata": {},
     "output_type": "execute_result"
    }
   ],
   "source": [
    "naukri = pd.DataFrame({'Job title': job_title, 'Experience': experience, 'Salary': Salary, 'Location': location, \n",
    "                       'Company Name': comp})\n",
    "naukri"
   ]
  },
  {
   "cell_type": "markdown",
   "metadata": {},
   "source": [
    "# Answer to Q2"
   ]
  },
  {
   "cell_type": "code",
   "execution_count": 76,
   "metadata": {},
   "outputs": [],
   "source": [
    "driver.get(url)"
   ]
  },
  {
   "cell_type": "code",
   "execution_count": 77,
   "metadata": {},
   "outputs": [],
   "source": [
    "searchj2 = driver.find_element_by_id('qsb-keyword-sugg')\n",
    "searchl2 = driver.find_element_by_id('qsb-location-sugg')\n",
    "searchj2.send_keys('Data Scientist')\n",
    "searchl2.send_keys('Bangalore')\n",
    "searchbutton2 = driver.find_element_by_xpath('//button[@class=\"btn\"]')\n",
    "searchbutton2.click()"
   ]
  },
  {
   "cell_type": "code",
   "execution_count": 60,
   "metadata": {},
   "outputs": [
    {
     "data": {
      "text/plain": [
       "[<selenium.webdriver.remote.webelement.WebElement (session=\"72726afc2adb247f3c3c65685f3614b2\", element=\"29230b87-0047-4fd4-851a-16632a046753\")>,\n",
       " <selenium.webdriver.remote.webelement.WebElement (session=\"72726afc2adb247f3c3c65685f3614b2\", element=\"efad26d3-7216-47a7-aab2-7d7d81256a48\")>,\n",
       " <selenium.webdriver.remote.webelement.WebElement (session=\"72726afc2adb247f3c3c65685f3614b2\", element=\"2203dbb7-6c7c-4d7e-aee4-b17dcca23b55\")>,\n",
       " <selenium.webdriver.remote.webelement.WebElement (session=\"72726afc2adb247f3c3c65685f3614b2\", element=\"479eee24-7650-47a3-99cd-c253ec02893a\")>,\n",
       " <selenium.webdriver.remote.webelement.WebElement (session=\"72726afc2adb247f3c3c65685f3614b2\", element=\"945cfe79-4adf-4fe0-a0e2-a1ed90db170c\")>,\n",
       " <selenium.webdriver.remote.webelement.WebElement (session=\"72726afc2adb247f3c3c65685f3614b2\", element=\"baa22d27-8c85-4881-bffc-72732534e399\")>,\n",
       " <selenium.webdriver.remote.webelement.WebElement (session=\"72726afc2adb247f3c3c65685f3614b2\", element=\"0bd98ba9-67fa-44d1-aa09-6d1e5c677020\")>,\n",
       " <selenium.webdriver.remote.webelement.WebElement (session=\"72726afc2adb247f3c3c65685f3614b2\", element=\"2648b41a-529d-45be-b91c-3673f3cd07a2\")>,\n",
       " <selenium.webdriver.remote.webelement.WebElement (session=\"72726afc2adb247f3c3c65685f3614b2\", element=\"b8ce8373-425c-4667-bbdc-e4c8848043d6\")>,\n",
       " <selenium.webdriver.remote.webelement.WebElement (session=\"72726afc2adb247f3c3c65685f3614b2\", element=\"7e4bede8-b219-49c1-9b84-963a249feaaf\")>,\n",
       " <selenium.webdriver.remote.webelement.WebElement (session=\"72726afc2adb247f3c3c65685f3614b2\", element=\"59fa21de-ce6f-4b20-948d-d09434e3f7f4\")>,\n",
       " <selenium.webdriver.remote.webelement.WebElement (session=\"72726afc2adb247f3c3c65685f3614b2\", element=\"a54f62b2-3620-4c0f-be0f-a855455c3273\")>,\n",
       " <selenium.webdriver.remote.webelement.WebElement (session=\"72726afc2adb247f3c3c65685f3614b2\", element=\"7f93de52-49f5-4ac2-91a6-77df9b524afc\")>,\n",
       " <selenium.webdriver.remote.webelement.WebElement (session=\"72726afc2adb247f3c3c65685f3614b2\", element=\"663346c5-ba5b-4ec7-bfb7-8676cbbb5bd9\")>,\n",
       " <selenium.webdriver.remote.webelement.WebElement (session=\"72726afc2adb247f3c3c65685f3614b2\", element=\"7cb21ad2-5bf7-49b2-bcfa-0242bb8c1c8e\")>,\n",
       " <selenium.webdriver.remote.webelement.WebElement (session=\"72726afc2adb247f3c3c65685f3614b2\", element=\"a7ad13ea-acfa-4f08-9a0e-a2efffb3b04b\")>,\n",
       " <selenium.webdriver.remote.webelement.WebElement (session=\"72726afc2adb247f3c3c65685f3614b2\", element=\"57729e37-9a48-44a7-885a-4a29ab34d192\")>,\n",
       " <selenium.webdriver.remote.webelement.WebElement (session=\"72726afc2adb247f3c3c65685f3614b2\", element=\"42538c77-28d6-424c-affb-bbbae57250b0\")>,\n",
       " <selenium.webdriver.remote.webelement.WebElement (session=\"72726afc2adb247f3c3c65685f3614b2\", element=\"259774b8-3759-486a-96b5-458ef92def9e\")>,\n",
       " <selenium.webdriver.remote.webelement.WebElement (session=\"72726afc2adb247f3c3c65685f3614b2\", element=\"c6f72c78-ba00-4385-9c0b-98f0dff725dd\")>]"
      ]
     },
     "execution_count": 60,
     "metadata": {},
     "output_type": "execute_result"
    }
   ],
   "source": [
    "jtit2 = driver.find_elements_by_xpath('//a[@class=\"title fw500 ellipsis\"]')\n",
    "jtit2"
   ]
  },
  {
   "cell_type": "code",
   "execution_count": 61,
   "metadata": {},
   "outputs": [
    {
     "data": {
      "text/plain": [
       "['Senior Data Scientist',\n",
       " 'Data Scientist: Advanced Analytics',\n",
       " 'Senior Data Scientist',\n",
       " 'DATA SCIENTIST',\n",
       " 'Senior Data Scientist',\n",
       " 'Software Developer - Data Scientist / NLP / Machine Learning & Dot Net',\n",
       " 'Data scientist',\n",
       " 'Senior Data Scientist',\n",
       " 'Sr Data Scientist',\n",
       " 'Senior Data Scientist']"
      ]
     },
     "execution_count": 61,
     "metadata": {},
     "output_type": "execute_result"
    }
   ],
   "source": [
    "job_title2 = []\n",
    "a = 1\n",
    "for i in jtit2:\n",
    "    if a<11: \n",
    "        job_title2.append(i.text)\n",
    "        a+=1\n",
    "    else:\n",
    "        break\n",
    "job_title2"
   ]
  },
  {
   "cell_type": "code",
   "execution_count": 62,
   "metadata": {},
   "outputs": [
    {
     "data": {
      "text/plain": [
       "[<selenium.webdriver.remote.webelement.WebElement (session=\"72726afc2adb247f3c3c65685f3614b2\", element=\"74a433bd-44c0-44f7-8302-6c00f550758d\")>,\n",
       " <selenium.webdriver.remote.webelement.WebElement (session=\"72726afc2adb247f3c3c65685f3614b2\", element=\"b378fe21-289c-4124-8900-2907902a3bfb\")>,\n",
       " <selenium.webdriver.remote.webelement.WebElement (session=\"72726afc2adb247f3c3c65685f3614b2\", element=\"7a5fe0ab-bc1b-4001-90f5-466592ba3b20\")>,\n",
       " <selenium.webdriver.remote.webelement.WebElement (session=\"72726afc2adb247f3c3c65685f3614b2\", element=\"532a21e3-3c79-4b7f-9845-80db209cff47\")>,\n",
       " <selenium.webdriver.remote.webelement.WebElement (session=\"72726afc2adb247f3c3c65685f3614b2\", element=\"ef78da4f-3db4-4a24-abe5-dbaa4712ebc8\")>,\n",
       " <selenium.webdriver.remote.webelement.WebElement (session=\"72726afc2adb247f3c3c65685f3614b2\", element=\"b12cfcab-5b53-4aa5-9a5f-56a586d05997\")>,\n",
       " <selenium.webdriver.remote.webelement.WebElement (session=\"72726afc2adb247f3c3c65685f3614b2\", element=\"5ff59ebd-0ae2-4a75-bbfb-fba6ff03b641\")>,\n",
       " <selenium.webdriver.remote.webelement.WebElement (session=\"72726afc2adb247f3c3c65685f3614b2\", element=\"4e4acbdf-d4b6-4612-8eda-8b6432927a43\")>,\n",
       " <selenium.webdriver.remote.webelement.WebElement (session=\"72726afc2adb247f3c3c65685f3614b2\", element=\"0113547f-b57d-4d97-bad9-aca087c09793\")>,\n",
       " <selenium.webdriver.remote.webelement.WebElement (session=\"72726afc2adb247f3c3c65685f3614b2\", element=\"11bcb6fa-1856-484d-82c5-917bc9fe6322\")>,\n",
       " <selenium.webdriver.remote.webelement.WebElement (session=\"72726afc2adb247f3c3c65685f3614b2\", element=\"206ff155-4dc1-458d-81a2-d7863ff918b0\")>,\n",
       " <selenium.webdriver.remote.webelement.WebElement (session=\"72726afc2adb247f3c3c65685f3614b2\", element=\"54df5429-f551-401c-a965-c796bbf00f43\")>,\n",
       " <selenium.webdriver.remote.webelement.WebElement (session=\"72726afc2adb247f3c3c65685f3614b2\", element=\"7b71ca80-ad85-4b50-b01f-6a5e299a46fc\")>,\n",
       " <selenium.webdriver.remote.webelement.WebElement (session=\"72726afc2adb247f3c3c65685f3614b2\", element=\"c3947450-4706-4bb4-9e74-6796bd12cc41\")>,\n",
       " <selenium.webdriver.remote.webelement.WebElement (session=\"72726afc2adb247f3c3c65685f3614b2\", element=\"f3b28f3e-4ff1-4189-9072-1449a6f7bc3e\")>,\n",
       " <selenium.webdriver.remote.webelement.WebElement (session=\"72726afc2adb247f3c3c65685f3614b2\", element=\"40cd7611-5dca-440c-af31-09d20e29e505\")>,\n",
       " <selenium.webdriver.remote.webelement.WebElement (session=\"72726afc2adb247f3c3c65685f3614b2\", element=\"dcdbbf50-39e7-4e7d-98db-bd627cd704cf\")>,\n",
       " <selenium.webdriver.remote.webelement.WebElement (session=\"72726afc2adb247f3c3c65685f3614b2\", element=\"fadba8e2-1b10-42c2-99f7-5d8bc2114b69\")>,\n",
       " <selenium.webdriver.remote.webelement.WebElement (session=\"72726afc2adb247f3c3c65685f3614b2\", element=\"fa8e83cf-2009-41d2-ac8e-9cd6e780656a\")>,\n",
       " <selenium.webdriver.remote.webelement.WebElement (session=\"72726afc2adb247f3c3c65685f3614b2\", element=\"3359f5f0-f697-49a1-adc8-55d5a053abf5\")>]"
      ]
     },
     "execution_count": 62,
     "metadata": {},
     "output_type": "execute_result"
    }
   ],
   "source": [
    "cname2 = driver.find_elements_by_xpath('//a[@class=\"subTitle ellipsis fleft\"]')\n",
    "cname2"
   ]
  },
  {
   "cell_type": "code",
   "execution_count": 64,
   "metadata": {},
   "outputs": [
    {
     "data": {
      "text/plain": [
       "['Philips India Limited',\n",
       " 'IBM India Pvt. Limited',\n",
       " 'SYMBIOSIS International W.L.L',\n",
       " 'McAfee Software (India) Pvt. Ltd',\n",
       " 'Datamatics Global Services Ltd',\n",
       " 'Cunesoft India Private Limited',\n",
       " 'Uber',\n",
       " 'IBM India Pvt. Limited',\n",
       " 'IBM India Pvt. Limited',\n",
       " 'Publicis Groupe']"
      ]
     },
     "execution_count": 64,
     "metadata": {},
     "output_type": "execute_result"
    }
   ],
   "source": [
    "comp2 = []\n",
    "m2 = 1\n",
    "for i in cname2:\n",
    "    if m2<11: \n",
    "        comp2.append(i.text)\n",
    "        m2+=1\n",
    "    else:\n",
    "        break\n",
    "comp2"
   ]
  },
  {
   "cell_type": "code",
   "execution_count": 66,
   "metadata": {},
   "outputs": [
    {
     "data": {
      "text/plain": [
       "[<selenium.webdriver.remote.webelement.WebElement (session=\"72726afc2adb247f3c3c65685f3614b2\", element=\"7cb26d83-34de-4564-a637-448a27682f8f\")>,\n",
       " <selenium.webdriver.remote.webelement.WebElement (session=\"72726afc2adb247f3c3c65685f3614b2\", element=\"64e164ce-96f1-4b6f-92bb-af5dac853bec\")>,\n",
       " <selenium.webdriver.remote.webelement.WebElement (session=\"72726afc2adb247f3c3c65685f3614b2\", element=\"6a35c580-75e5-42ad-8048-471383e803aa\")>,\n",
       " <selenium.webdriver.remote.webelement.WebElement (session=\"72726afc2adb247f3c3c65685f3614b2\", element=\"a4f0ab5b-a1f9-467f-aa4f-133f148a2c9a\")>,\n",
       " <selenium.webdriver.remote.webelement.WebElement (session=\"72726afc2adb247f3c3c65685f3614b2\", element=\"8b148aa9-5cbe-4f17-a963-1c9d51c5c9a4\")>,\n",
       " <selenium.webdriver.remote.webelement.WebElement (session=\"72726afc2adb247f3c3c65685f3614b2\", element=\"d6b51dc6-8466-4f19-bb28-83aba8a0fee7\")>,\n",
       " <selenium.webdriver.remote.webelement.WebElement (session=\"72726afc2adb247f3c3c65685f3614b2\", element=\"4550d516-81b2-44ef-8ae0-c3c05ce3b757\")>,\n",
       " <selenium.webdriver.remote.webelement.WebElement (session=\"72726afc2adb247f3c3c65685f3614b2\", element=\"8cb91e32-612b-4086-ad37-9076aa0c970c\")>,\n",
       " <selenium.webdriver.remote.webelement.WebElement (session=\"72726afc2adb247f3c3c65685f3614b2\", element=\"76c39ba6-30a6-4236-b9a5-0e2d9898e001\")>,\n",
       " <selenium.webdriver.remote.webelement.WebElement (session=\"72726afc2adb247f3c3c65685f3614b2\", element=\"8cb83dc6-1a92-49c1-9fb0-b7a4babb22bc\")>,\n",
       " <selenium.webdriver.remote.webelement.WebElement (session=\"72726afc2adb247f3c3c65685f3614b2\", element=\"0df486fa-641f-4106-864b-520c996f36bd\")>,\n",
       " <selenium.webdriver.remote.webelement.WebElement (session=\"72726afc2adb247f3c3c65685f3614b2\", element=\"9c614637-7739-4844-a67e-3a8df3f34ec0\")>,\n",
       " <selenium.webdriver.remote.webelement.WebElement (session=\"72726afc2adb247f3c3c65685f3614b2\", element=\"299a6940-a2ca-4fff-ae4b-695cbc314bb1\")>,\n",
       " <selenium.webdriver.remote.webelement.WebElement (session=\"72726afc2adb247f3c3c65685f3614b2\", element=\"bf14ccb5-8174-4356-9cae-7898b548d896\")>,\n",
       " <selenium.webdriver.remote.webelement.WebElement (session=\"72726afc2adb247f3c3c65685f3614b2\", element=\"f520a982-e86d-4022-9069-5ea2fff6ec9a\")>,\n",
       " <selenium.webdriver.remote.webelement.WebElement (session=\"72726afc2adb247f3c3c65685f3614b2\", element=\"12bd58c4-99ae-41ed-9ab3-4f49c2ec9eb9\")>,\n",
       " <selenium.webdriver.remote.webelement.WebElement (session=\"72726afc2adb247f3c3c65685f3614b2\", element=\"6d3de447-c5b6-4806-aeb5-003c67cbb56c\")>,\n",
       " <selenium.webdriver.remote.webelement.WebElement (session=\"72726afc2adb247f3c3c65685f3614b2\", element=\"a23f2625-fed9-4588-92e2-1300cb8fd778\")>,\n",
       " <selenium.webdriver.remote.webelement.WebElement (session=\"72726afc2adb247f3c3c65685f3614b2\", element=\"3f3f3399-ebd3-4275-b6f4-3dfb21195ef8\")>,\n",
       " <selenium.webdriver.remote.webelement.WebElement (session=\"72726afc2adb247f3c3c65685f3614b2\", element=\"e0f42a92-9ac7-4748-8572-5610fcc5367a\")>]"
      ]
     },
     "execution_count": 66,
     "metadata": {},
     "output_type": "execute_result"
    }
   ],
   "source": [
    "loc2 = driver.find_elements_by_xpath('//li[@class=\"fleft grey-text br2 placeHolderLi location\"]')\n",
    "loc2"
   ]
  },
  {
   "cell_type": "code",
   "execution_count": 70,
   "metadata": {},
   "outputs": [
    {
     "data": {
      "text/plain": [
       "['Bangalore/Bengaluru',\n",
       " 'Bangalore/Bengaluru',\n",
       " 'Bangalore/Bengaluru',\n",
       " 'Bangalore/Bengaluru',\n",
       " 'Bangalore/Bengaluru',\n",
       " 'Bangalore/Bengaluru (WFH during Covid)',\n",
       " 'Bangalore/Bengaluru',\n",
       " 'Bangalore/Bengaluru',\n",
       " 'Bangalore/Bengaluru',\n",
       " 'Bangalore/Bengaluru']"
      ]
     },
     "execution_count": 70,
     "metadata": {},
     "output_type": "execute_result"
    }
   ],
   "source": [
    "location2 = []\n",
    "w2 = 1\n",
    "for i in loc2:\n",
    "    if w2<11:\n",
    "        location2.append(i.text.replace('\\n', ' '))\n",
    "        w2+=1\n",
    "    else:\n",
    "        break\n",
    "location2"
   ]
  },
  {
   "cell_type": "code",
   "execution_count": 71,
   "metadata": {},
   "outputs": [
    {
     "data": {
      "text/plain": [
       "[<selenium.webdriver.remote.webelement.WebElement (session=\"72726afc2adb247f3c3c65685f3614b2\", element=\"334e3f59-e085-4207-8169-3442d1af7461\")>,\n",
       " <selenium.webdriver.remote.webelement.WebElement (session=\"72726afc2adb247f3c3c65685f3614b2\", element=\"a79a217c-a4e2-4503-821a-fedb6e895f38\")>,\n",
       " <selenium.webdriver.remote.webelement.WebElement (session=\"72726afc2adb247f3c3c65685f3614b2\", element=\"f9beeea9-9393-48b8-97f4-4390511bda4b\")>,\n",
       " <selenium.webdriver.remote.webelement.WebElement (session=\"72726afc2adb247f3c3c65685f3614b2\", element=\"fa42b339-6b21-4377-9ab0-80262df49cdb\")>,\n",
       " <selenium.webdriver.remote.webelement.WebElement (session=\"72726afc2adb247f3c3c65685f3614b2\", element=\"82799fb6-16bb-46e8-87f7-246bb5feed81\")>,\n",
       " <selenium.webdriver.remote.webelement.WebElement (session=\"72726afc2adb247f3c3c65685f3614b2\", element=\"9fdab023-226b-4a9e-b44c-bbbf63dedbe9\")>,\n",
       " <selenium.webdriver.remote.webelement.WebElement (session=\"72726afc2adb247f3c3c65685f3614b2\", element=\"c72243dd-de4f-4ed7-a961-5b3d8edb2b76\")>,\n",
       " <selenium.webdriver.remote.webelement.WebElement (session=\"72726afc2adb247f3c3c65685f3614b2\", element=\"f781dabc-9dec-4c07-945b-b8551d983ee3\")>,\n",
       " <selenium.webdriver.remote.webelement.WebElement (session=\"72726afc2adb247f3c3c65685f3614b2\", element=\"75e4fbd4-3c2b-46f0-b47b-6023f746bf51\")>,\n",
       " <selenium.webdriver.remote.webelement.WebElement (session=\"72726afc2adb247f3c3c65685f3614b2\", element=\"ee5344d6-8eb5-49f1-baf3-29d07f675de3\")>,\n",
       " <selenium.webdriver.remote.webelement.WebElement (session=\"72726afc2adb247f3c3c65685f3614b2\", element=\"fbe20d29-2c3b-4165-aaa3-5270b48b4313\")>,\n",
       " <selenium.webdriver.remote.webelement.WebElement (session=\"72726afc2adb247f3c3c65685f3614b2\", element=\"b7db7c6b-fb04-4ab5-91f9-31483efa834b\")>,\n",
       " <selenium.webdriver.remote.webelement.WebElement (session=\"72726afc2adb247f3c3c65685f3614b2\", element=\"45a848a7-2255-4880-8c27-3ecf433bfb6b\")>,\n",
       " <selenium.webdriver.remote.webelement.WebElement (session=\"72726afc2adb247f3c3c65685f3614b2\", element=\"0ad7f02d-e236-493d-98c4-2c5ecc9fe491\")>,\n",
       " <selenium.webdriver.remote.webelement.WebElement (session=\"72726afc2adb247f3c3c65685f3614b2\", element=\"19c432c8-d707-4ed9-b935-2ec18b2356c6\")>,\n",
       " <selenium.webdriver.remote.webelement.WebElement (session=\"72726afc2adb247f3c3c65685f3614b2\", element=\"8bc17bc1-20bf-4332-9470-2c32294485fb\")>,\n",
       " <selenium.webdriver.remote.webelement.WebElement (session=\"72726afc2adb247f3c3c65685f3614b2\", element=\"7673390f-1bc6-482f-8015-93b33e31b07a\")>,\n",
       " <selenium.webdriver.remote.webelement.WebElement (session=\"72726afc2adb247f3c3c65685f3614b2\", element=\"1557bfe7-05c8-4728-b262-4e9132243b8d\")>,\n",
       " <selenium.webdriver.remote.webelement.WebElement (session=\"72726afc2adb247f3c3c65685f3614b2\", element=\"1b8a6480-69f9-47d0-89e1-c8e1e2962d3b\")>,\n",
       " <selenium.webdriver.remote.webelement.WebElement (session=\"72726afc2adb247f3c3c65685f3614b2\", element=\"7f8a7a38-8b11-4795-840a-efe495dc2a06\")>]"
      ]
     },
     "execution_count": 71,
     "metadata": {},
     "output_type": "execute_result"
    }
   ],
   "source": [
    "exp2 = driver.find_elements_by_xpath('//li[@class=\"fleft grey-text br2 placeHolderLi experience\"]')\n",
    "exp2"
   ]
  },
  {
   "cell_type": "code",
   "execution_count": 72,
   "metadata": {},
   "outputs": [
    {
     "data": {
      "text/plain": [
       "['8-10 Yrs',\n",
       " '5-10 Yrs',\n",
       " '10-15 Yrs',\n",
       " '4-8 Yrs',\n",
       " '8-13 Yrs',\n",
       " '3-8 Yrs',\n",
       " '6-8 Yrs',\n",
       " '5-10 Yrs',\n",
       " '8-12 Yrs',\n",
       " '2-5 Yrs']"
      ]
     },
     "execution_count": 72,
     "metadata": {},
     "output_type": "execute_result"
    }
   ],
   "source": [
    "experience2 = []\n",
    "z2 = 1   \n",
    "for i in exp2:\n",
    "    if z2<11: \n",
    "        experience2.append(i.text)\n",
    "        z2+=1\n",
    "    else:\n",
    "        break\n",
    "experience2"
   ]
  },
  {
   "cell_type": "code",
   "execution_count": 86,
   "metadata": {},
   "outputs": [
    {
     "data": {
      "text/plain": [
       "['https://www.naukri.com/job-listings-senior-data-scientist-philips-india-limited-bangalore-bengaluru-8-to-10-years-060821501599?src=jobsearchDesk&sid=16283162860806472&xp=1&px=1',\n",
       " 'https://www.naukri.com/job-listings-data-scientist-advanced-analytics-ibm-india-pvt-limited-bangalore-bengaluru-5-to-10-years-060821907733?src=jobsearchDesk&sid=16283162860806472&xp=2&px=1',\n",
       " 'https://www.naukri.com/job-listings-senior-data-scientist-symbiosis-international-w-l-l-bangalore-bengaluru-10-to-15-years-050821004331?src=jobsearchDesk&sid=16283162860806472&xp=3&px=1',\n",
       " 'https://www.naukri.com/job-listings-data-scientist-mcafee-software-india-pvt-ltd-bangalore-bengaluru-4-to-8-years-050821501145?src=jobsearchDesk&sid=16283162860806472&xp=4&px=1',\n",
       " 'https://www.naukri.com/job-listings-senior-data-scientist-datamatics-global-services-ltd-bangalore-bengaluru-8-to-13-years-040821003517?src=jobsearchDesk&sid=16283162860806472&xp=5&px=1',\n",
       " 'https://www.naukri.com/job-listings-software-developer-data-scientist-nlp-machine-learning-dot-net-cunesoft-india-private-limited-bangalore-bengaluru-3-to-8-years-190121001281?src=jobsearchDesk&sid=16283162860806472&xp=6&px=1',\n",
       " 'https://www.naukri.com/job-listings-data-scientist-uber-bangalore-bengaluru-6-to-8-years-050821500683?src=jobsearchDesk&sid=16283162860806472&xp=7&px=1',\n",
       " 'https://www.naukri.com/job-listings-senior-data-scientist-ibm-india-pvt-limited-bangalore-bengaluru-5-to-10-years-260721907182?src=jobsearchDesk&sid=16283162860806472&xp=8&px=1',\n",
       " 'https://www.naukri.com/job-listings-sr-data-scientist-ibm-india-pvt-limited-bangalore-bengaluru-8-to-12-years-230721906918?src=jobsearchDesk&sid=16283162860806472&xp=9&px=1',\n",
       " 'https://www.naukri.com/job-listings-senior-data-scientist-publicis-groupe-bangalore-bengaluru-2-to-5-years-030821501259?src=jobsearchDesk&sid=16283162860806472&xp=10&px=1',\n",
       " 'https://www.naukri.com/job-listings-senior-data-scientist-bidgely-technologies-private-limited-bangalore-bengaluru-4-to-6-years-030821500043?src=jobsearchDesk&sid=16283162860806472&xp=11&px=1',\n",
       " 'https://www.naukri.com/job-listings-senior-data-scientist-goals-101-data-solutions-pvt-ltd-new-delhi-bangalore-bengaluru-delhi-ncr-4-to-8-years-030821000870?src=jobsearchDesk&sid=16283162860806472&xp=12&px=1',\n",
       " 'https://www.naukri.com/job-listings-data-scientist-permanent-role-onward-technologies-limited-hyderabad-secunderabad-chennai-bangalore-bengaluru-6-to-11-years-030821002780?src=jobsearchDesk&sid=16283162860806472&xp=13&px=1',\n",
       " 'https://www.naukri.com/job-listings-senior-data-scientist-randstad-india-pvt-ltd-bangalore-bengaluru-4-to-9-years-280721000424?src=jobsearchDesk&sid=16283162860806472&xp=14&px=1',\n",
       " 'https://www.naukri.com/job-listings-sr-data-scientist-tech-lead-data-science-confidential-bangalore-bengaluru-6-to-9-years-020821903704?src=jobsearchDesk&sid=16283162860806472&xp=15&px=1',\n",
       " 'https://www.naukri.com/job-listings-senior-data-scientist-l-a-consultancy-kochi-cochin-hyderabad-secunderabad-pune-chennai-delhi-ncr-bangalore-bengaluru-5-to-9-years-310721903849?src=jobsearchDesk&sid=16283162860806472&xp=16&px=1',\n",
       " 'https://www.naukri.com/job-listings-lead-data-scientist-tensorflow-machine-learning-getinz-techno-services-mumbai-hyderabad-secunderabad-chennai-bangalore-bengaluru-7-to-10-years-250721900474?src=jobsearchDesk&sid=16283162860806472&xp=17&px=1',\n",
       " 'https://www.naukri.com/job-listings-associate-data-scientist-execboardinasia-bangalore-bengaluru-5-to-10-years-310721500675?src=jobsearchDesk&sid=16283162860806472&xp=18&px=1',\n",
       " 'https://www.naukri.com/job-listings-data-engineers-data-scientist-and-sap-teamware-solutions-bangalore-bengaluru-7-to-10-years-300721500677?src=jobsearchDesk&sid=16283162860806472&xp=19&px=1',\n",
       " 'https://www.naukri.com/job-listings-senior-data-applied-scientist-microsoft-india-r-and-d-pvt-ltd-bangalore-bengaluru-3-to-5-years-060821501871?src=jobsearchDesk&sid=16283162860806472&xp=20&px=1']"
      ]
     },
     "execution_count": 86,
     "metadata": {},
     "output_type": "execute_result"
    }
   ],
   "source": [
    " spl = []\n",
    "spl1 = driver.find_elements_by_xpath('//a[@class = \"title fw500 ellipsis\"]')\n",
    "for i in spl1:\n",
    "    spl.append(i.get_attribute('href'))\n",
    "spl"
   ]
  },
  {
   "cell_type": "code",
   "execution_count": 178,
   "metadata": {},
   "outputs": [
    {
     "data": {
      "text/plain": [
       "['Job description:   Be a part of the Enterprise IT , Information and Data Science team and drive a strategic and actionable Data Science architecture to activate the needed business capabilities. Deliver business use cases like Care Provider (Customer, Product , IB ) 360 initiative, Product bundling , Value Based pricing , Conversational AI, Indirect Trade partner classification , Data pipeline predictions etc - an ambition to better understand the needs of Healthcare Providers, the way Philips serves its customers and how and where Philips can add value to the customer decision journey.: Your responsibilities: Ensure strategic direction for data science capabilities for Philips is created and kept up to date on a regular basis: Continuously evaluate the latest techniques in Artificial intelligence, machine learning, robotics, statistical analysis: Implement advanced algorithms for business problems based on statistical analysis, coding, deep learning, advanced data mining techniques etc.: Develop new algorithms if necessary, to bring predictive, advanced statistics / learning based solutions: Develop algorithms to further automate processes and feed insights back into PIL for better business outcome: Co-create with business / market / functions or IT platforms on requirements: Ensure quality of data and solution developed: Lead and drive data mining, creating algorithms, collection of data, collection of procedures during the design, build phases of a project: Lead and drive in deploy and testing of the solutions and insights: Spot and evaluate emerging/cutting edge, open source, data science/machine learning libraries: You are part of:: You will be part of Group IT , Information and Data Management team that drives business impact through Data Science and Advanced analytics. A team that instigates collaboration across diverse teams globally to manage Data as an asset at Philips.: Core competencies needed to be successful:: A Master s Degree or PhD in Computer Science, Econometrics, Artificial Intelligence, Applied Mathematics, Statistics or equivalent;: 8-10 years of overall experience in data science, data analytics roles: 8+ years of experience in multiple of machine learning, data mining, deep learning, artificial intelligence, pattern recognition areas: Experience in driving implementation of solutions, data and algorithms on data warehouse and lakes like Azure , AWS, SQL etc: Demonstrable advanced programming experience in Python or another programming language such as Azure ML/R/Python etc ;: Strong analytical and social skills and the capability to translate data intelligence into valuable insights for the senior stakeholders in the company: Ability to formulate multiple complex business problems into hypothesis and proof of concepts for testing: Manage Projects and lead a sub-portfolio of data science project teams to deliver results: Coach, Guide and direct teams of internal and vendor resources: Collaborate across IT platform teams to deploy solutions and drive continuous improvements: Manage senior stakeholder in the company in a matrix organization i.e. Market / BG / Function leaders: RoleBusiness/EDP Analyst: Industry TypeMedical Services / Hospital: Functional AreaITES, BPO, KPO, LPO, Customer Service, Operations: Employment TypeFull Time, Permanent: Role CategoryOperations: Education: UG :Any Graduate: PG :Post Graduation Not Required: Key Skills: Computer scienceData managementCodingAnalyticalMachine learningHealthcareData miningRoboticsSQLPython',\n",
       " 'Education-: UG:Any Graduate: PG:Post Graduation Not Required: Doctorate:Doctorate Not Required',\n",
       " \"Job description: Required Candidate profile: We are looking for a Senior Data Scientist with a min of 10 years experience in Banking Financial Domain (especially Compliance related) and a solid background in Cloudera.: As a Cloudera Specialist, you must be adept in Cloudera tools like CDH, CEPH, CM, CMA, Data node EDH, HVE, JAS, NameNode, Nodemanager, QJM, QJN, RM and ZK.: This will be a two years assignment to one of the Leading Class A banks in Abu Dhabi.: Candidate should have finished two or three full implementations of Data Analytics in Compliance in large Enterprise Banks.: Should be having thorough knowledge in R, Python, Scala on demand and Jupyter Notebooks.: Should be having hands experience in CCA Spark and Hadoop developer.: Should be having a Financial Compliance Background with a good knowledge and hands on expertise on Compliance related domains.: Should be a Machine Learning expert and create new models and use various library in that area. You should have proven skills in this area.: Should be having a thorough theoretical and practical idea on the following systems (From a Data Scientist Perspective): HDFS: Yarn: MapReduce: Hive: Pig: Apache Ambari: HBase / Apache Impala: Storm: Oozie: Ranger: Zookeeper: Various data ingestion tools like Sqoop, flume, Kafka: Various reporting tools like Drill, Phoenix, Zeppelin: Will be an added advantage if you have exposure to GPU processing, Tensor Flow and Data Lakes.: Should be able to produce high Quality Business documentation, Project Management, Agile Framework practices as needed.: Should inspect the current Cloudera Architecture and suggest enhancements or improve it.: Should be able to communicate with Senior Business Management ideas, concepts and deliverables.: If you have certifications on Cloudera (Cloudera Data Engineer, Spark and Hadoop Developer), it will be an added advantage.: Data Scientist - Compliance: Responsibilities:: Use advanced analytics methods to extract value from business data: Perform large-scale experimentation and build data-driven models to answer business questions: Conduct research on cutting-edge techniques and tools in machine learning/deep learning/artificial intelligence: Determine requirements that will be used to train and evolve deep learning models and algorithms: Articulate a vision and roadmap for the exploitation of data as a valued corporate asset: Influence product teams through presentation of data-based recommendations: Evangelize best practices to analytics and products teams: Assemble large, complex data sets that meet functional / non-functional business requirements.: Identify, design, and implement internal process improvements: automating manual processes, optimizing analytics delivery, re-designing infrastructure for greater scalability, etc.: Build analytics tools that utilize the data to provide actionable insights into customer acquisition, operational efficiency and other key business performance metrics.: Work with stakeholders including the Executive, Product, Data and Design teams to assist with analytics related technical issues and support their data infrastructure needs.: Work with data and analytics experts to strive for greater functionality data systems: Typical skills and background:: SKILLS:: Can work with data to identify patterns.: Use judgement to form conclusions that may challenge conventional wisdom and focus on the crux of issues to identify high-leverage intervention points and strategies.: Rapidly acquire new knowledge and learn new skills: Seek to understand business needs and get results that have a clear, positive, and direct impact on business performance: Apply different strategies to convince others to change their opinions or plans and ensure that proposals or arguments are supported by strong logic and a compelling business case, addressing all relevant factors.: Consider the relative costs and benefits of potential actions to choose the most appropriate one: Communication and storytelling: Teamwork and collaboration: Banking domain business knowledge: Advanced analytics modelling and orchestration: Solid development skills in Java, Scala and SQL: Sound knowledge of using data science tools and languages like Cloudera Data Science Workbench (CDSW), Jupyter Notebook, Python etc.: Clear hands-on mastery in big datab systems - Hadoop ecosystem, Cloud technologies (AWS, Azure, Google), in-memory database systems (HANA, Hazel cast, etc) and other database systems - traditional RDBMS (Terradata, SQL Server, Oracle), and NoSQL databases (Cassandra, MongoDB, DynamoDB): Comfortable in dashboard development (Tableau, Powerbi, Qlik, etc) and in developing data analytics models (R, Python, Spark): EXPERIENCE AND QUALIFICATION:: Masters degree from top-tier college/university in Computer Science, Statistics, Economics, or other closely-related field: Minimum of 6 years' hands-on experience with a strong data background: Extensive experience working with Big Data tools and building data solutions for advanced analytics: Experience with statistical software, scripting languages, and packages (e.g. R, MATLAB, SAS, and Python): Considerable experience in solving business problems with advanced analytical solutions: Proven experience in conducting statistical analysis and building models with advanced scripting language such as R, SPSS, or other analytic tools.: Experience building and deploying predictive models, web scraping, and scalable data pipelines.: Strong understanding of statistical methods and skills such as Bayesian Networks Inference, linear and non-linear regression, hierarchical, mixed models/multi-level modeling: Practical knowledge across data extraction and transformation tools - traditional ETL tools (Informatica, Altryx) as well as more recent big data tools: Financial Renumeration will be based on your skills and expertise.: Notice Period of 30 to 45 days preferred: Previous working experience in Middle East and Gulf regions preferred Roles and Responsibilities: : : Desired Candidate Profile: : : Perks and Benefits: : : RoleData Analyst: Industry TypeBanking: Functional AreaAnalytics & Business Intelligence: Employment TypeFull Time, Temporary/Contractual: Role CategoryAnalytics & BI: Education: UG :Any Graduate: Key Skills: Data ScienceBig Data AnalyticsHiveSqoopHdfs\",\n",
       " 'Job description: Data Scientist Primary Location India, Bangalore Date posted 08/01/2021: Apply Now Save Job ID: JR0024575: : : Job Title:: Data Scientist: : : Role Overview:: Data scientist will be doing research on innovative projects in platform engineering group at McAfee. Platform Engineering Group is the is one of the core groups responsible for collecting data from millions of sensors from various products of Enterprises, using the data to protect the customers, provide insights and necessary actions to be taken for security gap.: : This position is an integral part of the McAfee Enterprise business segment which was acquired by Symphony Technology Group (STG) in July 2021. McAfee Enterprise and its team members remain committed to keeping governments and enterprises safe. This position is dedicated to and part of the McAfee Enterprise business.: : : : Company Overview: McAfee is a leader in personal security for consumers. Focused on protecting people, not just devices, McAfee consumer solutions adapt to users needs in an always online world, empowering them to live securely through integrated, intuitive solutions that protects their families and communities with the right security at the right moment.: About the Role:: Develop Machine learning models to analyze and obtain practical insights from large volume of data that requires expertise at data exploration, analysis and feature engineering: Experiment and Develop POCs of innovative ideas to come up with new solutions for addressing security gaps: Create machine learning pipelines to automate generation of efficient and better models: Communicate and work with engineering teams to productionize the solutions: Taking ownership and responsibility of the solutions and driving to closure: Participate in data and product analytics to develop customer insights and product features: Implement newer machine learning algorithms and models to improve the efficacy of the existing solutions: Publish research papers on the experiments and machine learning solutions: About you :: 5+ years of experience in the field of Data Science: 5+ years of programming experience in at least one of Python or Java: 3+ years of working experience on large datasets using ML and experience with ML model life cycle: PhD degree in Computer Science, Data Science, Statistics, Mathematics or other related fields is preferred: Deep knowledge in Natural Language processing, Deep learning, statistics, predictive modeling and time series analysis.: Passionate about Cybersecurity and want to apply machine learning solutions in this space to solve security problems.: Experience working on Big data problems: Experience working on problems relevant to detecting risk, fraud and trust is an added advantage: Experience in working in AWS cloud environment is an added advantage: Experience with Publishing research papers: : : RoleResearch Scientist: Industry TypeIT Services & Consulting: Functional AreaMedical, Healthcare, R&D, Pharmaceuticals, Biotechnology: Employment TypeFull Time, Permanent: Role CategoryR&D: Education: UG :Any Graduate: PG :Post Graduation Not Required: Key Skills: Computer sciencePublishingdata scienceMachine learningPredictive modelingNatural language processingSensorsResearchAnalyticsPython',\n",
       " 'Job description: Roles and Responsibilities: : Details in lined for Hiring Team to focus:: The hiring is for a single Data Scientist (7-8+yrs) as he/she shall be an individual contributor.: We shall seek for a strong java/python/scala with expertise into frameworks ML (spark/keras/tensorflow).: ML concepts has to be thorough with proven expertise in ( Decision Trees, Random Forest, NLP) Deep Learning is excluded.: Desired Candidate Profile: : : Perks and Benefits: : : RoleTechnical Architect: Industry TypeRecruitment / Staffing: Functional AreaIT Software - Application Programming, Maintenance: Employment TypeFull Time, Permanent: Role CategoryProgramming & Design: Education: UG :Any Graduate: Key Skills: TensorflowJavaNLPSCALAKerasSparkDecision TreesDeep LearningPythonRandom Forest',\n",
       " 'Job description: Dear Candidates: We are looking for a competent and enthusiastic candidate with the below requirement. This vital role ensures Cunesoft India Pvt Ltd (a Phlexglobal Company) Bangalore can provide a high-quality end product to internal and external users. This position requires strong technical and communication skills as well as both independent and team working, including working closely with all other areas of the software delivery team and the rest of the Technology department.: Roles and Responsibilities: : Key Activities: Develop and improve the existing data mining and NLP related processes within our Regulatory Data Management platform: Develop new ways of improving and transforming the regulatory processes of Phlexglobal customers.: Interact with product management, project management and development teams to develop additional modules and functions within the Phlexglobal Cloud Platform: Design and create solutions for pre specified modules and functions: Use existing tools and techniques to develop and test new and existing work: Define, create and execute automated test cases, i.e. unit tests: Participate in troubleshooting and triaging of issues with different teams to drive towards root cause identification and resolution: Support production deployment of applications and perform validation testing during the off-hours maintenance windows: Support and fix existing and new identified issues by either customers or internal test teams.: : Desired Candidate Profile: : : Required Skills & Experience: : Minimum 3+ years working experience in NLP, Artificial Intelligence, Machine Learning, Text Mining, Neural Networks: Strong programming skills using PYTHON: In depth experience with OpenNLP, Stanford NLP or related NLP / data mining technologies: In depth experience with Python and data libraries such as scikit learn, pandas, numpy, etc.: Selecting features, building and optimizing classifiers using Machine learning techniques: Excellent understanding of Machine Learning Techniques and Algorithms.: Must have Data mining / Natural Language Processing experience: Must have very good understanding of GIT: Processing, Cleansing, and verifying the integrity of data: Develop custom data models and algorithms to apply to data sets.: Defining validation strategies: Defining the preprocessing or feature engineering to be done on a given dataset: Defining data augmentation pipelines: Training models and tuning their hyperparameters: Analyzing the errors of the model and designing strategies to overcome them: Deploying models to production: : Added advantages: 3+ years experience using Microsoft .NET / C#: Exposure to ML.Net, AutoML, NimbusML, etc: Good knowledge of Microsoft Visual Studio is preferred: Good to have Microsoft SQL Server, preferably Microsoft SQL Azure: Previous experience in the Life sciences area: : Other requirements: Excellent verbal and written communication skills: Must be flexible, independent and self motivated: Punctual, Regular and consistent attendance: As part of the Interview process, you should have attempted the below mentioned Kaggle project.: : https://www.kaggle.com/c/titanic: : We would like to arrange a phone interview with you. Please confirm your interest in this position by sending your recent CV attached along with below details.: : Total years of Experience :: : Relevant Experience :: : Current CTC :: : Expected CTC :: : Notice Period :: : Current Location :: : Best time to talk to you :: : Candidates with relevant experience can contact me.: : We are looking for a candidate who can join us immediately / in less than 15-20 days / 30 days / ASAP: : Please ignore, if you have already been interviewed within 3 months.: : Thanks: Srini: : sarumugam@phlexglobal.com: +91 63660 85842: : Dot Net Developer: : Junior (3-5 yrs), Mid (5-8 yrs) & Lead (8-12 yrs) level roles.: : Commercial experience in web development using the full Microsoft .Net development stack (specifically C#, MVC, .Net Core), SQL, front-end frameworks (jQuery, React, etc).: : Coding, Entity framework, Linq, Source control system (Any - TFS or GIT), Data structures: : Skilled in modern development principles (Agile, SOLID, TDD, design patterns, IoC): : At least theoretical knowledge - know-SQL database (example: Azure Cosmos): : Good to have - Ideally experience of Azure, MVVM, microservices, message bus, containerisation, serverless.: : Microsoft .Net development stack, C#, MVC, .Net Core, SQL, front-end frameworks, jQuery, React, Entity framework, Linq, TFS, GIT, Data structures, Agile, SOLID, TDD, design patterns, IoC, SQL database, Azure Cosmos, Azure, MVVM, microservices, message bus, containerisation, serverless: RoleSoftware Developer: Industry TypePharmaceutical & Life Sciences: Functional AreaIT Software - Application Programming, Maintenance: Employment TypeFull Time, Permanent: Role CategoryProgramming & Design: Education: UG :Graduation Not Required: Key Skills: pandaspythonnlpscikitlearndataminingneuralnetworkdeeplearningmachinelearningdatasciencenumpynaturallanguageprocessingartificialintelligence',\n",
       " \"Job description: About the role: We are looking for skilled motivated professionals who will support and own multiple projects globally that drive business growth while still balancing compliance risk and partner friction. The role will cover areas such as (not limited to) Sanctions screening; Partner and user compliance; Customer due diligence; Transaction monitoring; Metrics development and monitoring; and Model and Strategy development - to help balance partner friction and compliance risk: What you'll do: Develop and manage user risk rating models that meet applicable regulatory requirements and are aligned with standard methodologies and practices. Interpret large amounts of complex data to formulate problem statements, concise conclusions regarding underlying risk dynamics, trends, and opportunities Identify key risk indicators and metrics while developing and monitoring key parameters, enhance reporting, and identify new areas of analytic focus to better understand operational risk.: Own compliance specific area - end to end - ranging from the discovery of the business problem to eventually working with the Engineering/Product teams to execute it Strategy design and analysis of domain-specific use-cases such as Reduction of cost of compliance;: Improve monitoring mechanism to alert any anomaly in compliance or business metric; Improve funnel for Partner onboarding, thereby improving user experience; and Drive multiple experiments to evaluate and quantify the hypothesis Extensive data analytics and SQL query writing Predictive modeling / Machine learning algorithms - using random Forest / Decision tree / Logistic regression: Key Qualifications: 6 years of proven experience in a data-focused role such as product analytics, business analytics, business operations, or data science Education in Engineering, Computer Science, Math, Economics, Statistics or equivalent experience Past experience in Payments or Compliance with a Product / Tech company serving millions of customers on multiple platforms and countries BA/BS in Mathematics, Statistics, Computer Science, Economics, Business or analytical field SQL mastery.: Write efficient and complex code in SQL Experience in Python/R and in experimentation, A/B testing, and statistical modeling Define business metrics, including Key Performance Indicators, for financial products, in close partnership with Product Management and other leaders Proven ability to handle large datasets, explore and utilize raw data feeds: Excellent data visualization skills Love of data - you just go get the data you need and turn it into an insightful story. You know how to convert data into decisions without getting stuck in paralysis by analysis A well-organized, structured approach to problem-solving: Strong sense of ownership, accountability, and entrepreneurial spirit Able to lead change and solution-oriented Great communicator, problem-solver confident in decision making Independent autonomous, while still a strong teammate Enthusiastic, self-starting and thrives in changing, agile environment.: RoleBusiness Analyst: Industry TypeInternet: Functional AreaIT Software - Application Programming, Maintenance: Employment TypeFull Time, Permanent: Role CategorySystem Design/Implementation/ERP/CRM: Education: UG :Any Graduate: PG :Post Graduation Not Required: Key Skills: Product managementComputer scienceIT strategyBusiness analyticsAnalyticalMachine learningAgileMonitoringSQLPython\",\n",
       " 'Education-: UG:B.Tech/B.E. in Any Specialization: PG:Post Graduation Not Required: Doctorate:Doctorate Not Required',\n",
       " 'Education-: UG:B.Tech/B.E. in Any Specialization: PG:Post Graduation Not Required: Doctorate:Doctorate Not Required',\n",
       " 'Job description: Work location: Bengaluru (Currently, Remote): Shift timing: 12PM to 9PM: Work with stakeholders throughout the organization to identify opportunities for leveraging company data to drive business solutions.: Develop a use case roadmap for a problem area or capability for the business. Frame the business problem into a Data Science or modelling problem.: Extract data from multiple sources. Mine and analyze data from company databases to drive optimization and improvement of product.: Work as the data strategist, identifying and integrating new datasets that can be leveraged through our product capabilities and work closely with Client Support, Product Management and Engineering team to strategize and execute the development of data products.: Processing, cleansing, and verifying the integrity of data used for analysis. Undertake preprocessing of structured and unstructured data.: Data mining using state-of-the-art methods. Selecting features, building and optimizing classifiers using ML/AI techniques.: Present technical solutions to internal and external stakeholders in a formal setting, effectively communicating key concepts and functionalities: Effectively manage client expectations via direct and frequent communication with high quality results: Develop front end deliverable solutions for stakeholders utilizing BI tools such as Tableau, Cognos, Excel, or similar: Work on multiple assignments concurrently, while handling priorities and challenges and meeting timelines basis project plan and roadmap.: Build self-service tools for error detection, diagnosis, and predictive metrics.: Build project plans, maintain to-do list, organize work, follow coding ethics, and have an eye for detail: : : Qualifications: Bachelor s or Master s degree in a quantitative discipline (e.g., data science, statistics, economics, mathematics, computer science) or significant relevant coursework/experience: 4+ years professional experience in the field of data science or business intelligence: Demonstrated proficiency in PYTHON/SCALA/SQL and BIG DATA technologies and the proven ability to program in big data/cloud technologies such as AWS SPARK; minimum 3 years of experience: Experienced with Machine Learning algorithms such as logistic regression, linear regression, lasso regression, k-means, random forest, XG boost, KNN, SVM and neural network; minimum 2 years of experience: Able to produce elaborate documents/narrative suggesting actionable insights and recommendations leveraging BI tools such as Tableau: Expertise with Microsoft Office products; including Excel, PowerPoint, Word: Great communication skills. Excellent written and verbal communication skills for coordinating across teams.: Self-driven and results oriented. Willing to stretch to meet tight timelines.: Strong team player with ability to collaborate effectively across geographies/ time zones: Good understanding of Digital Marketing, Campaign Measurement, Web Analytics: Desirable Qualifications:: Professional experience working with R: Professional experience working with Power BI, Cognos, Dash, Looker, Domo: Professional experience in fraud analytics, customer journey, attribution modeling, churn modeling, predictive analytics, customer segmentation, feature creation, statistical testing, a/b testing, production curve modeling, NLP, and partner recommendations.: Professional analytical consulting experience with clients in Retail, Finance, Travel, or Home and Business Services: RoleProduct Manager: Industry TypeAdvertising & Marketing: Functional AreaIT Software - Application Programming, Maintenance: Employment TypeFull Time, Permanent: Role CategoryProgramming & Design: Education: UG :B.Tech/B.E. in Computers: PG :Post Graduation Not Required: Key Skills: Data ScienceBusiness IntelligenceLogistic RegressionData ScientistBig DataData MiningMachine LearningStatisticsPythonPredictive Analytics']"
      ]
     },
     "execution_count": 178,
     "metadata": {},
     "output_type": "execute_result"
    }
   ],
   "source": [
    "jd = []\n",
    "jd1=[]\n",
    "jt=1\n",
    "for i in spl:\n",
    "    driver.get(i)\n",
    "    if jt<11:\n",
    "        jd1.append(driver.find_elements_by_tag_name('section')[2].text.replace('\\n', ': '))\n",
    "        jt+=1\n",
    "    else:\n",
    "        break\n",
    "jd1"
   ]
  },
  {
   "cell_type": "code",
   "execution_count": 130,
   "metadata": {
    "scrolled": false
   },
   "outputs": [
    {
     "data": {
      "text/html": [
       "<div>\n",
       "<style scoped>\n",
       "    .dataframe tbody tr th:only-of-type {\n",
       "        vertical-align: middle;\n",
       "    }\n",
       "\n",
       "    .dataframe tbody tr th {\n",
       "        vertical-align: top;\n",
       "    }\n",
       "\n",
       "    .dataframe thead th {\n",
       "        text-align: right;\n",
       "    }\n",
       "</style>\n",
       "<table border=\"1\" class=\"dataframe\">\n",
       "  <thead>\n",
       "    <tr style=\"text-align: right;\">\n",
       "      <th></th>\n",
       "      <th>Job Title</th>\n",
       "      <th>Company</th>\n",
       "      <th>Location</th>\n",
       "      <th>Experience</th>\n",
       "      <th>Description</th>\n",
       "    </tr>\n",
       "  </thead>\n",
       "  <tbody>\n",
       "    <tr>\n",
       "      <th>0</th>\n",
       "      <td>Senior Data Scientist</td>\n",
       "      <td>Philips India Limited</td>\n",
       "      <td>Bangalore/Bengaluru</td>\n",
       "      <td>8-10 Yrs</td>\n",
       "      <td>Job description:   Be a part of the Enterprise...</td>\n",
       "    </tr>\n",
       "    <tr>\n",
       "      <th>1</th>\n",
       "      <td>Data Scientist: Advanced Analytics</td>\n",
       "      <td>IBM India Pvt. Limited</td>\n",
       "      <td>Bangalore/Bengaluru</td>\n",
       "      <td>5-10 Yrs</td>\n",
       "      <td>Education-: UG:Any Graduate: PG:Post Graduatio...</td>\n",
       "    </tr>\n",
       "    <tr>\n",
       "      <th>2</th>\n",
       "      <td>Senior Data Scientist</td>\n",
       "      <td>SYMBIOSIS International W.L.L</td>\n",
       "      <td>Bangalore/Bengaluru</td>\n",
       "      <td>10-15 Yrs</td>\n",
       "      <td>Job description: Required Candidate profile: W...</td>\n",
       "    </tr>\n",
       "    <tr>\n",
       "      <th>3</th>\n",
       "      <td>DATA SCIENTIST</td>\n",
       "      <td>McAfee Software (India) Pvt. Ltd</td>\n",
       "      <td>Bangalore/Bengaluru</td>\n",
       "      <td>4-8 Yrs</td>\n",
       "      <td>Job description: Data Scientist Primary Locati...</td>\n",
       "    </tr>\n",
       "    <tr>\n",
       "      <th>4</th>\n",
       "      <td>Senior Data Scientist</td>\n",
       "      <td>Datamatics Global Services Ltd</td>\n",
       "      <td>Bangalore/Bengaluru</td>\n",
       "      <td>8-13 Yrs</td>\n",
       "      <td>Job description: Roles and Responsibilities: :...</td>\n",
       "    </tr>\n",
       "    <tr>\n",
       "      <th>5</th>\n",
       "      <td>Software Developer - Data Scientist / NLP / Ma...</td>\n",
       "      <td>Cunesoft India Private Limited</td>\n",
       "      <td>Bangalore/Bengaluru (WFH during Covid)</td>\n",
       "      <td>3-8 Yrs</td>\n",
       "      <td>Job description: Dear Candidates: We are looki...</td>\n",
       "    </tr>\n",
       "    <tr>\n",
       "      <th>6</th>\n",
       "      <td>Data scientist</td>\n",
       "      <td>Uber</td>\n",
       "      <td>Bangalore/Bengaluru</td>\n",
       "      <td>6-8 Yrs</td>\n",
       "      <td>Job description: About the role: We are lookin...</td>\n",
       "    </tr>\n",
       "    <tr>\n",
       "      <th>7</th>\n",
       "      <td>Senior Data Scientist</td>\n",
       "      <td>IBM India Pvt. Limited</td>\n",
       "      <td>Bangalore/Bengaluru</td>\n",
       "      <td>5-10 Yrs</td>\n",
       "      <td>Education-: UG:B.Tech/B.E. in Any Specializati...</td>\n",
       "    </tr>\n",
       "    <tr>\n",
       "      <th>8</th>\n",
       "      <td>Sr Data Scientist</td>\n",
       "      <td>IBM India Pvt. Limited</td>\n",
       "      <td>Bangalore/Bengaluru</td>\n",
       "      <td>8-12 Yrs</td>\n",
       "      <td>Education-: UG:B.Tech/B.E. in Any Specializati...</td>\n",
       "    </tr>\n",
       "    <tr>\n",
       "      <th>9</th>\n",
       "      <td>Senior Data Scientist</td>\n",
       "      <td>Publicis Groupe</td>\n",
       "      <td>Bangalore/Bengaluru</td>\n",
       "      <td>2-5 Yrs</td>\n",
       "      <td>Job description: Work location: Bengaluru (Cur...</td>\n",
       "    </tr>\n",
       "  </tbody>\n",
       "</table>\n",
       "</div>"
      ],
      "text/plain": [
       "                                           Job Title  \\\n",
       "0                              Senior Data Scientist   \n",
       "1                 Data Scientist: Advanced Analytics   \n",
       "2                              Senior Data Scientist   \n",
       "3                                     DATA SCIENTIST   \n",
       "4                              Senior Data Scientist   \n",
       "5  Software Developer - Data Scientist / NLP / Ma...   \n",
       "6                                     Data scientist   \n",
       "7                              Senior Data Scientist   \n",
       "8                                  Sr Data Scientist   \n",
       "9                              Senior Data Scientist   \n",
       "\n",
       "                            Company                                Location  \\\n",
       "0             Philips India Limited                     Bangalore/Bengaluru   \n",
       "1            IBM India Pvt. Limited                     Bangalore/Bengaluru   \n",
       "2     SYMBIOSIS International W.L.L                     Bangalore/Bengaluru   \n",
       "3  McAfee Software (India) Pvt. Ltd                     Bangalore/Bengaluru   \n",
       "4    Datamatics Global Services Ltd                     Bangalore/Bengaluru   \n",
       "5    Cunesoft India Private Limited  Bangalore/Bengaluru (WFH during Covid)   \n",
       "6                              Uber                     Bangalore/Bengaluru   \n",
       "7            IBM India Pvt. Limited                     Bangalore/Bengaluru   \n",
       "8            IBM India Pvt. Limited                     Bangalore/Bengaluru   \n",
       "9                   Publicis Groupe                     Bangalore/Bengaluru   \n",
       "\n",
       "  Experience                                        Description  \n",
       "0   8-10 Yrs  Job description:   Be a part of the Enterprise...  \n",
       "1   5-10 Yrs  Education-: UG:Any Graduate: PG:Post Graduatio...  \n",
       "2  10-15 Yrs  Job description: Required Candidate profile: W...  \n",
       "3    4-8 Yrs  Job description: Data Scientist Primary Locati...  \n",
       "4   8-13 Yrs  Job description: Roles and Responsibilities: :...  \n",
       "5    3-8 Yrs  Job description: Dear Candidates: We are looki...  \n",
       "6    6-8 Yrs  Job description: About the role: We are lookin...  \n",
       "7   5-10 Yrs  Education-: UG:B.Tech/B.E. in Any Specializati...  \n",
       "8   8-12 Yrs  Education-: UG:B.Tech/B.E. in Any Specializati...  \n",
       "9    2-5 Yrs  Job description: Work location: Bengaluru (Cur...  "
      ]
     },
     "execution_count": 130,
     "metadata": {},
     "output_type": "execute_result"
    }
   ],
   "source": [
    "ds2 = pd.DataFrame({'Job Title': job_title2, 'Company': comp2, 'Location': location2, 'Experience': experience2, \n",
    "                    'Description': jd1})\n",
    "ds2"
   ]
  },
  {
   "cell_type": "markdown",
   "metadata": {},
   "source": [
    "# Answer to Q3"
   ]
  },
  {
   "cell_type": "code",
   "execution_count": 196,
   "metadata": {},
   "outputs": [],
   "source": [
    "driver.get(url)"
   ]
  },
  {
   "cell_type": "code",
   "execution_count": 197,
   "metadata": {},
   "outputs": [],
   "source": [
    "searchj3 = driver.find_element_by_id('qsb-keyword-sugg')\n",
    "searchj3.send_keys('Data Scientist')\n",
    "searchbutton3 = driver.find_element_by_xpath('//button[@class=\"btn\"]')\n",
    "searchbutton3.click()"
   ]
  },
  {
   "cell_type": "code",
   "execution_count": 198,
   "metadata": {},
   "outputs": [],
   "source": [
    "cb1 = driver.find_element_by_xpath('//label[@for=\"chk-3-6 Lakhs-ctcFilter-\"]//i')\n",
    "cb1.click()"
   ]
  },
  {
   "cell_type": "code",
   "execution_count": 199,
   "metadata": {},
   "outputs": [],
   "source": [
    "cb2 = driver.find_element_by_xpath('//label[@for=\"chk-Delhi / NCR-cityTypeGid-\"]//i')\n",
    "cb2.click()"
   ]
  },
  {
   "cell_type": "code",
   "execution_count": 200,
   "metadata": {},
   "outputs": [
    {
     "data": {
      "text/plain": [
       "[<selenium.webdriver.remote.webelement.WebElement (session=\"b9c94d193eaf829f004d5239e678cc30\", element=\"a48df5b8-3291-412c-b22e-f171c5510ad4\")>,\n",
       " <selenium.webdriver.remote.webelement.WebElement (session=\"b9c94d193eaf829f004d5239e678cc30\", element=\"039e343b-36a6-465b-a369-43df1b677e15\")>,\n",
       " <selenium.webdriver.remote.webelement.WebElement (session=\"b9c94d193eaf829f004d5239e678cc30\", element=\"69935043-4ac9-4987-97dc-677885e9ff7e\")>,\n",
       " <selenium.webdriver.remote.webelement.WebElement (session=\"b9c94d193eaf829f004d5239e678cc30\", element=\"923ebeef-0cbc-4324-bfad-48a33cdfb3f9\")>,\n",
       " <selenium.webdriver.remote.webelement.WebElement (session=\"b9c94d193eaf829f004d5239e678cc30\", element=\"b0e66a7e-31df-4bf5-90fb-c6c7b931d7c3\")>,\n",
       " <selenium.webdriver.remote.webelement.WebElement (session=\"b9c94d193eaf829f004d5239e678cc30\", element=\"9a64b5dc-2627-4f07-865a-2c9ef01fb5bd\")>,\n",
       " <selenium.webdriver.remote.webelement.WebElement (session=\"b9c94d193eaf829f004d5239e678cc30\", element=\"d612078e-d88b-4abf-8f79-a14c33e06d4b\")>,\n",
       " <selenium.webdriver.remote.webelement.WebElement (session=\"b9c94d193eaf829f004d5239e678cc30\", element=\"7a0b8bdc-5db2-4ce5-b7cf-d6bbaae8231b\")>,\n",
       " <selenium.webdriver.remote.webelement.WebElement (session=\"b9c94d193eaf829f004d5239e678cc30\", element=\"b28a1966-52d4-4f2f-8a35-25517c4f1440\")>,\n",
       " <selenium.webdriver.remote.webelement.WebElement (session=\"b9c94d193eaf829f004d5239e678cc30\", element=\"db7265c7-6f57-4594-9873-4adad23996b2\")>,\n",
       " <selenium.webdriver.remote.webelement.WebElement (session=\"b9c94d193eaf829f004d5239e678cc30\", element=\"316f0c2a-9848-40ff-9acf-9ff5e6cc1f31\")>,\n",
       " <selenium.webdriver.remote.webelement.WebElement (session=\"b9c94d193eaf829f004d5239e678cc30\", element=\"f316cd1a-9240-4289-a19f-3c4a81c2de09\")>,\n",
       " <selenium.webdriver.remote.webelement.WebElement (session=\"b9c94d193eaf829f004d5239e678cc30\", element=\"1f0e91e3-2e93-4da8-a41c-cc65a7c5294f\")>,\n",
       " <selenium.webdriver.remote.webelement.WebElement (session=\"b9c94d193eaf829f004d5239e678cc30\", element=\"5482a415-8d09-4d8f-9b0d-e6d22a6f7373\")>,\n",
       " <selenium.webdriver.remote.webelement.WebElement (session=\"b9c94d193eaf829f004d5239e678cc30\", element=\"803bf279-d646-4a9e-91b7-11f5c7bb8433\")>,\n",
       " <selenium.webdriver.remote.webelement.WebElement (session=\"b9c94d193eaf829f004d5239e678cc30\", element=\"f276636d-c908-48a1-b3c8-39b27dfd794a\")>,\n",
       " <selenium.webdriver.remote.webelement.WebElement (session=\"b9c94d193eaf829f004d5239e678cc30\", element=\"984d62dd-1306-4af3-83e1-2d1fa927f890\")>,\n",
       " <selenium.webdriver.remote.webelement.WebElement (session=\"b9c94d193eaf829f004d5239e678cc30\", element=\"f84a04ad-4e03-4a52-927c-e30b2ab220e5\")>,\n",
       " <selenium.webdriver.remote.webelement.WebElement (session=\"b9c94d193eaf829f004d5239e678cc30\", element=\"7617ca7f-2f65-42e9-8492-a7c86f8cd580\")>,\n",
       " <selenium.webdriver.remote.webelement.WebElement (session=\"b9c94d193eaf829f004d5239e678cc30\", element=\"8bf930a8-c24f-4bfc-8d26-8926b893fc61\")>]"
      ]
     },
     "execution_count": 200,
     "metadata": {},
     "output_type": "execute_result"
    }
   ],
   "source": [
    "jtit3 = driver.find_elements_by_xpath('//a[@class=\"title fw500 ellipsis\"]')\n",
    "jtit3"
   ]
  },
  {
   "cell_type": "code",
   "execution_count": 201,
   "metadata": {},
   "outputs": [
    {
     "data": {
      "text/plain": [
       "['Data Scientist',\n",
       " 'Data Scientist / Sr. Data Scientist',\n",
       " 'Only Fresher / Data Scientist / Data Analyst / Analytics - MNC Jobs',\n",
       " 'Immediate Openings For DATA Scientist with 6 To 7 yrs of Experience',\n",
       " 'Data Scientist / Data Analyst',\n",
       " 'Data Scientist',\n",
       " 'Senior Data Scientist - Noida',\n",
       " 'Data Scientist',\n",
       " 'Hiring Data Scientist Develope || IDS Infotech LTD || (Permanent WFH)',\n",
       " 'Hiring Data Scientist Develope || IDS Infotech LTD || (Permanent WFH)']"
      ]
     },
     "execution_count": 201,
     "metadata": {},
     "output_type": "execute_result"
    }
   ],
   "source": [
    "job_title3 = []\n",
    "y3 = 1\n",
    "for i in jtit3:\n",
    "    if y3<11: \n",
    "        job_title3.append(i.text)\n",
    "        y3+=1\n",
    "    else:\n",
    "        break\n",
    "job_title3"
   ]
  },
  {
   "cell_type": "code",
   "execution_count": 202,
   "metadata": {},
   "outputs": [
    {
     "data": {
      "text/plain": [
       "[<selenium.webdriver.remote.webelement.WebElement (session=\"b9c94d193eaf829f004d5239e678cc30\", element=\"3ee74365-01cb-4937-92f4-27606f0af337\")>,\n",
       " <selenium.webdriver.remote.webelement.WebElement (session=\"b9c94d193eaf829f004d5239e678cc30\", element=\"7fbe6f62-8299-44c1-9369-6bbf5e581753\")>,\n",
       " <selenium.webdriver.remote.webelement.WebElement (session=\"b9c94d193eaf829f004d5239e678cc30\", element=\"70cce250-edac-461e-b990-4fe40252f99c\")>,\n",
       " <selenium.webdriver.remote.webelement.WebElement (session=\"b9c94d193eaf829f004d5239e678cc30\", element=\"f1cd5215-9c80-4fe2-8c52-0fe0da9de9f6\")>,\n",
       " <selenium.webdriver.remote.webelement.WebElement (session=\"b9c94d193eaf829f004d5239e678cc30\", element=\"e02fccae-b847-4a0f-b134-461c84858e18\")>,\n",
       " <selenium.webdriver.remote.webelement.WebElement (session=\"b9c94d193eaf829f004d5239e678cc30\", element=\"5a4a56ca-863f-4554-a7c5-9d5994870d0d\")>,\n",
       " <selenium.webdriver.remote.webelement.WebElement (session=\"b9c94d193eaf829f004d5239e678cc30\", element=\"4f9b2ceb-94e9-4f0d-ae26-eba4e82fd922\")>,\n",
       " <selenium.webdriver.remote.webelement.WebElement (session=\"b9c94d193eaf829f004d5239e678cc30\", element=\"f315e60c-091a-4f6d-aa96-41e59d52b6e2\")>,\n",
       " <selenium.webdriver.remote.webelement.WebElement (session=\"b9c94d193eaf829f004d5239e678cc30\", element=\"e311824a-71b4-42e5-8de9-51ee90f4dcd0\")>,\n",
       " <selenium.webdriver.remote.webelement.WebElement (session=\"b9c94d193eaf829f004d5239e678cc30\", element=\"4a4f7f6b-7ebf-4753-aa89-b011c32ab3bb\")>,\n",
       " <selenium.webdriver.remote.webelement.WebElement (session=\"b9c94d193eaf829f004d5239e678cc30\", element=\"4b5b835b-7d2d-4a92-b9da-82f44ba44078\")>,\n",
       " <selenium.webdriver.remote.webelement.WebElement (session=\"b9c94d193eaf829f004d5239e678cc30\", element=\"7bced331-1f02-43b9-8130-01783adb504a\")>,\n",
       " <selenium.webdriver.remote.webelement.WebElement (session=\"b9c94d193eaf829f004d5239e678cc30\", element=\"8ab3f1e5-5b1f-4d70-9815-a301fe0cf252\")>,\n",
       " <selenium.webdriver.remote.webelement.WebElement (session=\"b9c94d193eaf829f004d5239e678cc30\", element=\"0bf2c7f4-fe85-46b6-bea2-09c14df99fdb\")>,\n",
       " <selenium.webdriver.remote.webelement.WebElement (session=\"b9c94d193eaf829f004d5239e678cc30\", element=\"1031e23b-a7f1-4c1f-ab3b-d65ebeb63873\")>,\n",
       " <selenium.webdriver.remote.webelement.WebElement (session=\"b9c94d193eaf829f004d5239e678cc30\", element=\"40c03ddd-3738-438e-8ebf-ac2697a43b0e\")>,\n",
       " <selenium.webdriver.remote.webelement.WebElement (session=\"b9c94d193eaf829f004d5239e678cc30\", element=\"7318d2d0-88dd-4fa8-874d-7f4a87de979f\")>,\n",
       " <selenium.webdriver.remote.webelement.WebElement (session=\"b9c94d193eaf829f004d5239e678cc30\", element=\"f0b33fef-5300-4183-88ea-6b76db883e32\")>,\n",
       " <selenium.webdriver.remote.webelement.WebElement (session=\"b9c94d193eaf829f004d5239e678cc30\", element=\"b9161ee2-7887-4dd2-b435-79a2cb2212e4\")>,\n",
       " <selenium.webdriver.remote.webelement.WebElement (session=\"b9c94d193eaf829f004d5239e678cc30\", element=\"790d71e6-f429-42bd-8ed7-dec2e9905cff\")>]"
      ]
     },
     "execution_count": 202,
     "metadata": {},
     "output_type": "execute_result"
    }
   ],
   "source": [
    "loc3 = driver.find_elements_by_xpath('//li[@class=\"fleft grey-text br2 placeHolderLi location\"]')\n",
    "loc3"
   ]
  },
  {
   "cell_type": "code",
   "execution_count": 204,
   "metadata": {},
   "outputs": [
    {
     "data": {
      "text/plain": [
       "['Gurgaon/Gurugram',\n",
       " 'Noida, Pune, Mumbai (All Areas)',\n",
       " 'Noida, Gurgaon/Gurugram, Delhi / NCR',\n",
       " 'Kolkata, Hyderabad/Secunderabad, Pune, Ahmedabad, Chennai, Bangalore/Bengaluru, Delhi / NCR, Mumbai (All Areas) (WFH during Covid)',\n",
       " 'Gurgaon/Gurugram',\n",
       " 'Gurgaon/Gurugram',\n",
       " 'Noida',\n",
       " 'Noida(Sector-59 Noida)',\n",
       " 'Chandigarh, Hyderabad/Secunderabad, Chennai, Bangalore/Bengaluru, Delhi / NCR',\n",
       " 'Chandigarh, Hyderabad/Secunderabad, Chennai, Bangalore/Bengaluru, Delhi / NCR']"
      ]
     },
     "execution_count": 204,
     "metadata": {},
     "output_type": "execute_result"
    }
   ],
   "source": [
    "location3 = []\n",
    "w3 = 1\n",
    "for i in loc3:\n",
    "    if w3<11:\n",
    "        location3.append(i.text.replace('\\n', ' '))\n",
    "        w3+=1\n",
    "    else:\n",
    "        break\n",
    "location3"
   ]
  },
  {
   "cell_type": "code",
   "execution_count": 205,
   "metadata": {},
   "outputs": [
    {
     "data": {
      "text/plain": [
       "['CBRE South Asia Pvt Ltd',\n",
       " 'WEGARNER SOLUTIONS PRIVATE LIMITED',\n",
       " 'GABA Consultancy services',\n",
       " 'Entune IT Consulting Private Limited',\n",
       " 'CARS24',\n",
       " 'Decimal Technologies Pvt Ltd.',\n",
       " 'Optum Global Solutions (India) Private Limited',\n",
       " 'R Systems International Ltd.',\n",
       " 'IDS Infotech Ltd.',\n",
       " 'IDS Infotech Ltd.']"
      ]
     },
     "execution_count": 205,
     "metadata": {},
     "output_type": "execute_result"
    }
   ],
   "source": [
    "cname3 = driver.find_elements_by_xpath('//a[@class=\"subTitle ellipsis fleft\"]')\n",
    "\n",
    "comp3 = []\n",
    "m3 = 1\n",
    "for i in cname3:\n",
    "    if m3<11: \n",
    "        comp3.append(i.text)\n",
    "        m3+=1\n",
    "    else:\n",
    "        break\n",
    "comp3"
   ]
  },
  {
   "cell_type": "code",
   "execution_count": 206,
   "metadata": {},
   "outputs": [
    {
     "data": {
      "text/plain": [
       "['2-4 Yrs',\n",
       " '0-5 Yrs',\n",
       " '0-0 Yrs',\n",
       " '5-8 Yrs',\n",
       " '1-5 Yrs',\n",
       " '1-3 Yrs',\n",
       " '2-6 Yrs',\n",
       " '5-10 Yrs',\n",
       " '5-10 Yrs',\n",
       " '5-10 Yrs']"
      ]
     },
     "execution_count": 206,
     "metadata": {},
     "output_type": "execute_result"
    }
   ],
   "source": [
    "exp3 = driver.find_elements_by_xpath('//li[@class=\"fleft grey-text br2 placeHolderLi experience\"]')\n",
    "experience3 = []\n",
    "z3 = 1   \n",
    "for i in exp3:\n",
    "    if z3<11: \n",
    "        experience3.append(i.text)\n",
    "        z3+=1\n",
    "    else:\n",
    "        break\n",
    "experience3"
   ]
  },
  {
   "cell_type": "code",
   "execution_count": 207,
   "metadata": {},
   "outputs": [
    {
     "data": {
      "text/html": [
       "<div>\n",
       "<style scoped>\n",
       "    .dataframe tbody tr th:only-of-type {\n",
       "        vertical-align: middle;\n",
       "    }\n",
       "\n",
       "    .dataframe tbody tr th {\n",
       "        vertical-align: top;\n",
       "    }\n",
       "\n",
       "    .dataframe thead th {\n",
       "        text-align: right;\n",
       "    }\n",
       "</style>\n",
       "<table border=\"1\" class=\"dataframe\">\n",
       "  <thead>\n",
       "    <tr style=\"text-align: right;\">\n",
       "      <th></th>\n",
       "      <th>Job title</th>\n",
       "      <th>Location</th>\n",
       "      <th>Company</th>\n",
       "      <th>Experience</th>\n",
       "    </tr>\n",
       "  </thead>\n",
       "  <tbody>\n",
       "    <tr>\n",
       "      <th>0</th>\n",
       "      <td>Data Scientist</td>\n",
       "      <td>Gurgaon/Gurugram</td>\n",
       "      <td>CBRE South Asia Pvt Ltd</td>\n",
       "      <td>2-4 Yrs</td>\n",
       "    </tr>\n",
       "    <tr>\n",
       "      <th>1</th>\n",
       "      <td>Data Scientist / Sr. Data Scientist</td>\n",
       "      <td>Noida, Pune, Mumbai (All Areas)</td>\n",
       "      <td>WEGARNER SOLUTIONS PRIVATE LIMITED</td>\n",
       "      <td>0-5 Yrs</td>\n",
       "    </tr>\n",
       "    <tr>\n",
       "      <th>2</th>\n",
       "      <td>Only Fresher / Data Scientist / Data Analyst /...</td>\n",
       "      <td>Noida, Gurgaon/Gurugram, Delhi / NCR</td>\n",
       "      <td>GABA Consultancy services</td>\n",
       "      <td>0-0 Yrs</td>\n",
       "    </tr>\n",
       "    <tr>\n",
       "      <th>3</th>\n",
       "      <td>Immediate Openings For DATA Scientist with 6 T...</td>\n",
       "      <td>Kolkata, Hyderabad/Secunderabad, Pune, Ahmedab...</td>\n",
       "      <td>Entune IT Consulting Private Limited</td>\n",
       "      <td>5-8 Yrs</td>\n",
       "    </tr>\n",
       "    <tr>\n",
       "      <th>4</th>\n",
       "      <td>Data Scientist / Data Analyst</td>\n",
       "      <td>Gurgaon/Gurugram</td>\n",
       "      <td>CARS24</td>\n",
       "      <td>1-5 Yrs</td>\n",
       "    </tr>\n",
       "    <tr>\n",
       "      <th>5</th>\n",
       "      <td>Data Scientist</td>\n",
       "      <td>Gurgaon/Gurugram</td>\n",
       "      <td>Decimal Technologies Pvt Ltd.</td>\n",
       "      <td>1-3 Yrs</td>\n",
       "    </tr>\n",
       "    <tr>\n",
       "      <th>6</th>\n",
       "      <td>Senior Data Scientist - Noida</td>\n",
       "      <td>Noida</td>\n",
       "      <td>Optum Global Solutions (India) Private Limited</td>\n",
       "      <td>2-6 Yrs</td>\n",
       "    </tr>\n",
       "    <tr>\n",
       "      <th>7</th>\n",
       "      <td>Data Scientist</td>\n",
       "      <td>Noida(Sector-59 Noida)</td>\n",
       "      <td>R Systems International Ltd.</td>\n",
       "      <td>5-10 Yrs</td>\n",
       "    </tr>\n",
       "    <tr>\n",
       "      <th>8</th>\n",
       "      <td>Hiring Data Scientist Develope || IDS Infotech...</td>\n",
       "      <td>Chandigarh, Hyderabad/Secunderabad, Chennai, B...</td>\n",
       "      <td>IDS Infotech Ltd.</td>\n",
       "      <td>5-10 Yrs</td>\n",
       "    </tr>\n",
       "    <tr>\n",
       "      <th>9</th>\n",
       "      <td>Hiring Data Scientist Develope || IDS Infotech...</td>\n",
       "      <td>Chandigarh, Hyderabad/Secunderabad, Chennai, B...</td>\n",
       "      <td>IDS Infotech Ltd.</td>\n",
       "      <td>5-10 Yrs</td>\n",
       "    </tr>\n",
       "  </tbody>\n",
       "</table>\n",
       "</div>"
      ],
      "text/plain": [
       "                                           Job title  \\\n",
       "0                                     Data Scientist   \n",
       "1                Data Scientist / Sr. Data Scientist   \n",
       "2  Only Fresher / Data Scientist / Data Analyst /...   \n",
       "3  Immediate Openings For DATA Scientist with 6 T...   \n",
       "4                      Data Scientist / Data Analyst   \n",
       "5                                     Data Scientist   \n",
       "6                      Senior Data Scientist - Noida   \n",
       "7                                     Data Scientist   \n",
       "8  Hiring Data Scientist Develope || IDS Infotech...   \n",
       "9  Hiring Data Scientist Develope || IDS Infotech...   \n",
       "\n",
       "                                            Location  \\\n",
       "0                                   Gurgaon/Gurugram   \n",
       "1                    Noida, Pune, Mumbai (All Areas)   \n",
       "2               Noida, Gurgaon/Gurugram, Delhi / NCR   \n",
       "3  Kolkata, Hyderabad/Secunderabad, Pune, Ahmedab...   \n",
       "4                                   Gurgaon/Gurugram   \n",
       "5                                   Gurgaon/Gurugram   \n",
       "6                                              Noida   \n",
       "7                             Noida(Sector-59 Noida)   \n",
       "8  Chandigarh, Hyderabad/Secunderabad, Chennai, B...   \n",
       "9  Chandigarh, Hyderabad/Secunderabad, Chennai, B...   \n",
       "\n",
       "                                          Company Experience  \n",
       "0                         CBRE South Asia Pvt Ltd    2-4 Yrs  \n",
       "1              WEGARNER SOLUTIONS PRIVATE LIMITED    0-5 Yrs  \n",
       "2                       GABA Consultancy services    0-0 Yrs  \n",
       "3            Entune IT Consulting Private Limited    5-8 Yrs  \n",
       "4                                          CARS24    1-5 Yrs  \n",
       "5                   Decimal Technologies Pvt Ltd.    1-3 Yrs  \n",
       "6  Optum Global Solutions (India) Private Limited    2-6 Yrs  \n",
       "7                    R Systems International Ltd.   5-10 Yrs  \n",
       "8                               IDS Infotech Ltd.   5-10 Yrs  \n",
       "9                               IDS Infotech Ltd.   5-10 Yrs  "
      ]
     },
     "execution_count": 207,
     "metadata": {},
     "output_type": "execute_result"
    }
   ],
   "source": [
    "nau3 = pd.DataFrame({'Job title': job_title3, 'Location': location3, 'Company': comp3, 'Experience': experience3})\n",
    "nau3"
   ]
  },
  {
   "cell_type": "markdown",
   "metadata": {},
   "source": [
    "# Answer to Q4"
   ]
  },
  {
   "cell_type": "code",
   "execution_count": 208,
   "metadata": {},
   "outputs": [],
   "source": [
    "driver.get('https://www.glassdoor.co.in/member/home/index.htm')"
   ]
  },
  {
   "cell_type": "code",
   "execution_count": 210,
   "metadata": {},
   "outputs": [],
   "source": [
    "searchj4 = driver.find_element_by_id('sc.keyword')\n",
    "searchl4 = driver.find_element_by_id('sc.location')\n",
    "searchj4.send_keys('Data Scientist')\n",
    "searchl4.send_keys('Noida')\n",
    "searchbutton4 = driver.find_element_by_xpath('//span[@class=\"css-8zxfjs\"]')\n",
    "searchbutton4.click()"
   ]
  },
  {
   "cell_type": "code",
   "execution_count": 211,
   "metadata": {},
   "outputs": [
    {
     "data": {
      "text/plain": [
       "['GXO Logistics',\n",
       " 'MSCI Inc',\n",
       " 'Colgate-Palmolive',\n",
       " 'Expertrons',\n",
       " 'GoMechanic',\n",
       " 'Internet Brands',\n",
       " 'The Walt Disney Company (Corporate)',\n",
       " 'Tvarit GmbH',\n",
       " 'Fractal.ai',\n",
       " 'Fractal.ai']"
      ]
     },
     "execution_count": 211,
     "metadata": {},
     "output_type": "execute_result"
    }
   ],
   "source": [
    "cname4 = driver.find_elements_by_xpath('//a[@class=\" css-l2wjgv e1n63ojh0 jobLink\"]')\n",
    "comp4 = []\n",
    "m4 = 1\n",
    "for i in cname4:\n",
    "    if m4<11: \n",
    "        comp4.append(i.text)\n",
    "        m4+=1\n",
    "    else:\n",
    "        break\n",
    "comp4"
   ]
  },
  {
   "cell_type": "code",
   "execution_count": 213,
   "metadata": {},
   "outputs": [
    {
     "data": {
      "text/plain": [
       "['3d', '3d', '24h', '1d', '4d', '1d', '18d', '2d', '30d+', '9d']"
      ]
     },
     "execution_count": 213,
     "metadata": {},
     "output_type": "execute_result"
    }
   ],
   "source": [
    "dago = driver.find_elements_by_xpath('//div[@class=\"d-flex align-items-end pl-std css-mi55ob\"]')\n",
    "day_ago = []\n",
    "n4 = 1\n",
    "for i in dago:\n",
    "    if n4<11:\n",
    "        day_ago.append(i.text)\n",
    "        n4+=1\n",
    "    else:\n",
    "        break\n",
    "day_ago"
   ]
  },
  {
   "cell_type": "code",
   "execution_count": 224,
   "metadata": {},
   "outputs": [
    {
     "data": {
      "text/plain": [
       "[<selenium.webdriver.remote.webelement.WebElement (session=\"b9c94d193eaf829f004d5239e678cc30\", element=\"02ccd0bd-d508-4045-9143-4dc82d409ad3\")>,\n",
       " <selenium.webdriver.remote.webelement.WebElement (session=\"b9c94d193eaf829f004d5239e678cc30\", element=\"cbc7b660-1085-434a-be72-c30bafb6bac8\")>,\n",
       " <selenium.webdriver.remote.webelement.WebElement (session=\"b9c94d193eaf829f004d5239e678cc30\", element=\"1de8ef10-bbb1-4fb4-bc54-33b77b68231a\")>,\n",
       " <selenium.webdriver.remote.webelement.WebElement (session=\"b9c94d193eaf829f004d5239e678cc30\", element=\"3e2abc52-5035-4bbd-9ba2-4eab1d0cc7d5\")>,\n",
       " <selenium.webdriver.remote.webelement.WebElement (session=\"b9c94d193eaf829f004d5239e678cc30\", element=\"51c7b9b9-3e59-407c-9078-7c31171dc641\")>,\n",
       " <selenium.webdriver.remote.webelement.WebElement (session=\"b9c94d193eaf829f004d5239e678cc30\", element=\"56a84712-9a6b-4842-b6b0-79695097387e\")>,\n",
       " <selenium.webdriver.remote.webelement.WebElement (session=\"b9c94d193eaf829f004d5239e678cc30\", element=\"feacefff-58d8-4277-855f-a48d7fe4e226\")>,\n",
       " <selenium.webdriver.remote.webelement.WebElement (session=\"b9c94d193eaf829f004d5239e678cc30\", element=\"85abde47-bb5a-4094-9391-1bda7fdb7638\")>,\n",
       " <selenium.webdriver.remote.webelement.WebElement (session=\"b9c94d193eaf829f004d5239e678cc30\", element=\"7f7edca7-f7f6-4b8d-971a-9c8126c11b7d\")>,\n",
       " <selenium.webdriver.remote.webelement.WebElement (session=\"b9c94d193eaf829f004d5239e678cc30\", element=\"d05cb0d4-3524-4c26-bc0c-6086cb7b6c42\")>]"
      ]
     },
     "execution_count": 224,
     "metadata": {},
     "output_type": "execute_result"
    }
   ],
   "source": [
    "d4 = driver.find_elements_by_xpath('//div[@class=\"d-flex flex-column css-x75kgh e1rrn5ka3\"]')\n",
    "d4 = d4[0:10]\n",
    "d4"
   ]
  },
  {
   "cell_type": "code",
   "execution_count": 225,
   "metadata": {},
   "outputs": [
    {
     "data": {
      "text/plain": [
       "['--', '3.9', '4.3', '4.0', '3.9', '3.1', '4.0', '4.8', '4.0', '4.0']"
      ]
     },
     "execution_count": 225,
     "metadata": {},
     "output_type": "execute_result"
    }
   ],
   "source": [
    "stars = []\n",
    "for i in d4:\n",
    "    if i.text:\n",
    "        stars.append(i.text)\n",
    "    else:\n",
    "        stars.append('--')\n",
    "stars"
   ]
  },
  {
   "cell_type": "code",
   "execution_count": 226,
   "metadata": {},
   "outputs": [
    {
     "data": {
      "text/html": [
       "<div>\n",
       "<style scoped>\n",
       "    .dataframe tbody tr th:only-of-type {\n",
       "        vertical-align: middle;\n",
       "    }\n",
       "\n",
       "    .dataframe tbody tr th {\n",
       "        vertical-align: top;\n",
       "    }\n",
       "\n",
       "    .dataframe thead th {\n",
       "        text-align: right;\n",
       "    }\n",
       "</style>\n",
       "<table border=\"1\" class=\"dataframe\">\n",
       "  <thead>\n",
       "    <tr style=\"text-align: right;\">\n",
       "      <th></th>\n",
       "      <th>Company</th>\n",
       "      <th>Rating</th>\n",
       "      <th>No. of days ago</th>\n",
       "    </tr>\n",
       "  </thead>\n",
       "  <tbody>\n",
       "    <tr>\n",
       "      <th>0</th>\n",
       "      <td>GXO Logistics</td>\n",
       "      <td>--</td>\n",
       "      <td>3d</td>\n",
       "    </tr>\n",
       "    <tr>\n",
       "      <th>1</th>\n",
       "      <td>MSCI Inc</td>\n",
       "      <td>3.9</td>\n",
       "      <td>3d</td>\n",
       "    </tr>\n",
       "    <tr>\n",
       "      <th>2</th>\n",
       "      <td>Colgate-Palmolive</td>\n",
       "      <td>4.3</td>\n",
       "      <td>24h</td>\n",
       "    </tr>\n",
       "    <tr>\n",
       "      <th>3</th>\n",
       "      <td>Expertrons</td>\n",
       "      <td>4.0</td>\n",
       "      <td>1d</td>\n",
       "    </tr>\n",
       "    <tr>\n",
       "      <th>4</th>\n",
       "      <td>GoMechanic</td>\n",
       "      <td>3.9</td>\n",
       "      <td>4d</td>\n",
       "    </tr>\n",
       "    <tr>\n",
       "      <th>5</th>\n",
       "      <td>Internet Brands</td>\n",
       "      <td>3.1</td>\n",
       "      <td>1d</td>\n",
       "    </tr>\n",
       "    <tr>\n",
       "      <th>6</th>\n",
       "      <td>The Walt Disney Company (Corporate)</td>\n",
       "      <td>4.0</td>\n",
       "      <td>18d</td>\n",
       "    </tr>\n",
       "    <tr>\n",
       "      <th>7</th>\n",
       "      <td>Tvarit GmbH</td>\n",
       "      <td>4.8</td>\n",
       "      <td>2d</td>\n",
       "    </tr>\n",
       "    <tr>\n",
       "      <th>8</th>\n",
       "      <td>Fractal.ai</td>\n",
       "      <td>4.0</td>\n",
       "      <td>30d+</td>\n",
       "    </tr>\n",
       "    <tr>\n",
       "      <th>9</th>\n",
       "      <td>Fractal.ai</td>\n",
       "      <td>4.0</td>\n",
       "      <td>9d</td>\n",
       "    </tr>\n",
       "  </tbody>\n",
       "</table>\n",
       "</div>"
      ],
      "text/plain": [
       "                               Company Rating No. of days ago\n",
       "0                        GXO Logistics     --              3d\n",
       "1                             MSCI Inc    3.9              3d\n",
       "2                    Colgate-Palmolive    4.3             24h\n",
       "3                           Expertrons    4.0              1d\n",
       "4                           GoMechanic    3.9              4d\n",
       "5                      Internet Brands    3.1              1d\n",
       "6  The Walt Disney Company (Corporate)    4.0             18d\n",
       "7                          Tvarit GmbH    4.8              2d\n",
       "8                           Fractal.ai    4.0            30d+\n",
       "9                           Fractal.ai    4.0              9d"
      ]
     },
     "execution_count": 226,
     "metadata": {},
     "output_type": "execute_result"
    }
   ],
   "source": [
    "gd = pd.DataFrame({'Company': comp4, 'Rating': stars, 'No. of days ago': day_ago})\n",
    "gd"
   ]
  },
  {
   "cell_type": "markdown",
   "metadata": {},
   "source": [
    "# Answer to Q5"
   ]
  },
  {
   "cell_type": "code",
   "execution_count": 234,
   "metadata": {},
   "outputs": [],
   "source": [
    "driver.get('https://www.glassdoor.co.in/Salaries/index.htm')"
   ]
  },
  {
   "cell_type": "code",
   "execution_count": 235,
   "metadata": {},
   "outputs": [],
   "source": [
    "searchj5 = driver.find_element_by_id('KeywordSearch')\n",
    "searchl5 = driver.find_element_by_id('LocationSearch')\n",
    "searchj5.send_keys('Data Scientist')\n",
    "searchl5.clear()\n",
    "searchl5.send_keys('Noida')\n",
    "searchbutton5 = driver.find_element_by_xpath('//button[@id=\"HeroSearchButton\"]')\n",
    "searchbutton5.click()"
   ]
  },
  {
   "cell_type": "code",
   "execution_count": 237,
   "metadata": {},
   "outputs": [
    {
     "data": {
      "text/plain": [
       "['Tata Consultancy Services',\n",
       " 'IBM',\n",
       " 'Accenture',\n",
       " 'Delhivery',\n",
       " 'Ericsson-Worldwide',\n",
       " 'UnitedHealth Group',\n",
       " 'Valiance Solutions',\n",
       " 'EXL Service',\n",
       " 'Optum',\n",
       " 'Optum Global Solutions']"
      ]
     },
     "execution_count": 237,
     "metadata": {},
     "output_type": "execute_result"
    }
   ],
   "source": [
    "cname5 = driver.find_elements_by_xpath('//a[@class=\"css-f3vw95 e1aj7ssy3\"]')\n",
    "comp5 = []\n",
    "m5 = 1\n",
    "for i in cname5:\n",
    "    if m5<11: \n",
    "        comp5.append(i.text)\n",
    "        m5+=1\n",
    "    else:\n",
    "        break\n",
    "comp5"
   ]
  },
  {
   "cell_type": "code",
   "execution_count": 250,
   "metadata": {},
   "outputs": [],
   "source": [
    "mima = driver.find_elements_by_xpath('//div[@class=\"d-flex mt-xxsm css-79elbk epuxyqn0\"]')\n",
    "minmax = []\n",
    "minsal = []\n",
    "maxsal = []\n",
    "g5 = 1\n",
    "for i in mima:\n",
    "    if g5<11: \n",
    "        minmax.append(i.text.split('\\n'))\n",
    "        g5+=1\n",
    "    else:\n",
    "        break\n",
    "for i,j in minmax:\n",
    "    minsal.append(i)\n",
    "    maxsal.append(j)"
   ]
  },
  {
   "cell_type": "code",
   "execution_count": 254,
   "metadata": {},
   "outputs": [
    {
     "data": {
      "text/plain": [
       "['₹6,12,205 /yr',\n",
       " '₹9,00,000 /yr',\n",
       " '₹11,63,336 /yr',\n",
       " '₹12,18,244 /yr',\n",
       " '₹7,39,238 /yr',\n",
       " '₹12,80,000 /yr',\n",
       " '₹8,63,750 /yr',\n",
       " '₹11,10,000 /yr',\n",
       " '₹14,23,677 /yr',\n",
       " '₹13,28,697 /yr']"
      ]
     },
     "execution_count": 254,
     "metadata": {},
     "output_type": "execute_result"
    }
   ],
   "source": [
    "avsal = driver.find_elements_by_xpath('//div[@class=\"col-12 col-lg-4 px-lg-0 d-flex align-items-baseline\"]')\n",
    "avg_sal = []\n",
    "h5 = 1\n",
    "for i in avsal:\n",
    "    if h5<11: \n",
    "        avg_sal.append(i.text.replace('\\n', ''))\n",
    "        h5+=1\n",
    "    else:\n",
    "        break\n",
    "avg_sal"
   ]
  },
  {
   "cell_type": "code",
   "execution_count": 258,
   "metadata": {},
   "outputs": [
    {
     "data": {
      "text/plain": [
       "['3.9 ★',\n",
       " '3.9 ★',\n",
       " '4.1 ★',\n",
       " '3.9 ★',\n",
       " '4 ★',\n",
       " '3.6 ★',\n",
       " '4.2 ★',\n",
       " '3.6 ★',\n",
       " '3.7 ★',\n",
       " '3.9 ★']"
      ]
     },
     "execution_count": 258,
     "metadata": {},
     "output_type": "execute_result"
    }
   ],
   "source": [
    "d5 = driver.find_elements_by_xpath('//div[@class=\"d-flex align-items-center mt-xxsm\"]')\n",
    "d5 = d5[0:10]\n",
    "stars5 = []\n",
    "for i in d5:\n",
    "    stars5.append(i.text.replace('\\n', ' '))\n",
    "stars5"
   ]
  },
  {
   "cell_type": "code",
   "execution_count": 259,
   "metadata": {},
   "outputs": [
    {
     "data": {
      "text/html": [
       "<div>\n",
       "<style scoped>\n",
       "    .dataframe tbody tr th:only-of-type {\n",
       "        vertical-align: middle;\n",
       "    }\n",
       "\n",
       "    .dataframe tbody tr th {\n",
       "        vertical-align: top;\n",
       "    }\n",
       "\n",
       "    .dataframe thead th {\n",
       "        text-align: right;\n",
       "    }\n",
       "</style>\n",
       "<table border=\"1\" class=\"dataframe\">\n",
       "  <thead>\n",
       "    <tr style=\"text-align: right;\">\n",
       "      <th></th>\n",
       "      <th>Company</th>\n",
       "      <th>Min Sal</th>\n",
       "      <th>Max Sal</th>\n",
       "      <th>Average Sal</th>\n",
       "      <th>Company Rating</th>\n",
       "    </tr>\n",
       "  </thead>\n",
       "  <tbody>\n",
       "    <tr>\n",
       "      <th>0</th>\n",
       "      <td>Tata Consultancy Services</td>\n",
       "      <td>₹3L</td>\n",
       "      <td>₹13L</td>\n",
       "      <td>₹6,12,205 /yr</td>\n",
       "      <td>3.9 ★</td>\n",
       "    </tr>\n",
       "    <tr>\n",
       "      <th>1</th>\n",
       "      <td>IBM</td>\n",
       "      <td>₹6L</td>\n",
       "      <td>₹27L</td>\n",
       "      <td>₹9,00,000 /yr</td>\n",
       "      <td>3.9 ★</td>\n",
       "    </tr>\n",
       "    <tr>\n",
       "      <th>2</th>\n",
       "      <td>Accenture</td>\n",
       "      <td>₹6L</td>\n",
       "      <td>₹22L</td>\n",
       "      <td>₹11,63,336 /yr</td>\n",
       "      <td>4.1 ★</td>\n",
       "    </tr>\n",
       "    <tr>\n",
       "      <th>3</th>\n",
       "      <td>Delhivery</td>\n",
       "      <td>₹5L</td>\n",
       "      <td>₹1Cr</td>\n",
       "      <td>₹12,18,244 /yr</td>\n",
       "      <td>3.9 ★</td>\n",
       "    </tr>\n",
       "    <tr>\n",
       "      <th>4</th>\n",
       "      <td>Ericsson-Worldwide</td>\n",
       "      <td>₹4L</td>\n",
       "      <td>₹16L</td>\n",
       "      <td>₹7,39,238 /yr</td>\n",
       "      <td>4 ★</td>\n",
       "    </tr>\n",
       "    <tr>\n",
       "      <th>5</th>\n",
       "      <td>UnitedHealth Group</td>\n",
       "      <td>₹8L</td>\n",
       "      <td>₹15L</td>\n",
       "      <td>₹12,80,000 /yr</td>\n",
       "      <td>3.6 ★</td>\n",
       "    </tr>\n",
       "    <tr>\n",
       "      <th>6</th>\n",
       "      <td>Valiance Solutions</td>\n",
       "      <td>₹5L</td>\n",
       "      <td>₹15L</td>\n",
       "      <td>₹8,63,750 /yr</td>\n",
       "      <td>4.2 ★</td>\n",
       "    </tr>\n",
       "    <tr>\n",
       "      <th>7</th>\n",
       "      <td>EXL Service</td>\n",
       "      <td>₹6L</td>\n",
       "      <td>₹15L</td>\n",
       "      <td>₹11,10,000 /yr</td>\n",
       "      <td>3.6 ★</td>\n",
       "    </tr>\n",
       "    <tr>\n",
       "      <th>8</th>\n",
       "      <td>Optum</td>\n",
       "      <td>₹8L</td>\n",
       "      <td>₹20L</td>\n",
       "      <td>₹14,23,677 /yr</td>\n",
       "      <td>3.7 ★</td>\n",
       "    </tr>\n",
       "    <tr>\n",
       "      <th>9</th>\n",
       "      <td>Optum Global Solutions</td>\n",
       "      <td>₹4L</td>\n",
       "      <td>₹22L</td>\n",
       "      <td>₹13,28,697 /yr</td>\n",
       "      <td>3.9 ★</td>\n",
       "    </tr>\n",
       "  </tbody>\n",
       "</table>\n",
       "</div>"
      ],
      "text/plain": [
       "                     Company Min Sal Max Sal     Average Sal Company Rating\n",
       "0  Tata Consultancy Services     ₹3L    ₹13L   ₹6,12,205 /yr          3.9 ★\n",
       "1                        IBM     ₹6L    ₹27L   ₹9,00,000 /yr          3.9 ★\n",
       "2                  Accenture     ₹6L    ₹22L  ₹11,63,336 /yr          4.1 ★\n",
       "3                  Delhivery     ₹5L    ₹1Cr  ₹12,18,244 /yr          3.9 ★\n",
       "4         Ericsson-Worldwide     ₹4L    ₹16L   ₹7,39,238 /yr            4 ★\n",
       "5         UnitedHealth Group     ₹8L    ₹15L  ₹12,80,000 /yr          3.6 ★\n",
       "6         Valiance Solutions     ₹5L    ₹15L   ₹8,63,750 /yr          4.2 ★\n",
       "7                EXL Service     ₹6L    ₹15L  ₹11,10,000 /yr          3.6 ★\n",
       "8                      Optum     ₹8L    ₹20L  ₹14,23,677 /yr          3.7 ★\n",
       "9     Optum Global Solutions     ₹4L    ₹22L  ₹13,28,697 /yr          3.9 ★"
      ]
     },
     "execution_count": 259,
     "metadata": {},
     "output_type": "execute_result"
    }
   ],
   "source": [
    "salaries = pd.DataFrame({'Company': comp5, 'Min Sal': minsal, 'Max Sal': maxsal, 'Average Sal': avg_sal, 'Company Rating': stars5})\n",
    "salaries"
   ]
  },
  {
   "cell_type": "markdown",
   "metadata": {},
   "source": [
    "# Answer to Q6"
   ]
  },
  {
   "cell_type": "code",
   "execution_count": 264,
   "metadata": {},
   "outputs": [],
   "source": [
    "driver.get('https://www.flipkart.com/')"
   ]
  },
  {
   "cell_type": "code",
   "execution_count": 265,
   "metadata": {},
   "outputs": [],
   "source": [
    "searchj6 = driver.find_element_by_xpath('//input[@class=\"_3704LK\"]')\n",
    "searchj6.send_keys('sunglasses')\n",
    "searchbutton6 = driver.find_element_by_tag_name('svg')\n",
    "searchbutton6.click()"
   ]
  },
  {
   "cell_type": "code",
   "execution_count": 310,
   "metadata": {},
   "outputs": [
    {
     "ename": "StaleElementReferenceException",
     "evalue": "Message: stale element reference: element is not attached to the page document\n  (Session info: MicrosoftEdge=92.0.902.62)\n",
     "output_type": "error",
     "traceback": [
      "\u001b[1;31m---------------------------------------------------------------------------\u001b[0m",
      "\u001b[1;31mStaleElementReferenceException\u001b[0m            Traceback (most recent call last)",
      "\u001b[1;32m<ipython-input-310-44079dced41b>\u001b[0m in \u001b[0;36m<module>\u001b[1;34m\u001b[0m\n\u001b[0;32m     26\u001b[0m     \u001b[0mprices\u001b[0m\u001b[1;33m.\u001b[0m\u001b[0mappend\u001b[0m\u001b[1;33m(\u001b[0m\u001b[0mi\u001b[0m\u001b[1;33m.\u001b[0m\u001b[0mtext\u001b[0m\u001b[1;33m)\u001b[0m\u001b[1;33m\u001b[0m\u001b[1;33m\u001b[0m\u001b[0m\n\u001b[0;32m     27\u001b[0m \u001b[0mnext1\u001b[0m \u001b[1;33m=\u001b[0m \u001b[0mdriver\u001b[0m\u001b[1;33m.\u001b[0m\u001b[0mfind_element_by_xpath\u001b[0m\u001b[1;33m(\u001b[0m\u001b[1;34m'//a[@class=\"_1LKTO3\"]'\u001b[0m\u001b[1;33m)\u001b[0m\u001b[1;33m\u001b[0m\u001b[1;33m\u001b[0m\u001b[0m\n\u001b[1;32m---> 28\u001b[1;33m \u001b[0mnext1\u001b[0m\u001b[1;33m.\u001b[0m\u001b[0mclick\u001b[0m\u001b[1;33m(\u001b[0m\u001b[1;33m)\u001b[0m\u001b[1;33m\u001b[0m\u001b[1;33m\u001b[0m\u001b[0m\n\u001b[0m\u001b[0;32m     29\u001b[0m \u001b[0mb6\u001b[0m \u001b[1;33m=\u001b[0m \u001b[0mdriver\u001b[0m\u001b[1;33m.\u001b[0m\u001b[0mfind_elements_by_xpath\u001b[0m\u001b[1;33m(\u001b[0m\u001b[1;34m'//div[@class=\"_2WkVRV\"]'\u001b[0m\u001b[1;33m)\u001b[0m\u001b[1;33m\u001b[0m\u001b[1;33m\u001b[0m\u001b[0m\n\u001b[0;32m     30\u001b[0m \u001b[1;32mfor\u001b[0m \u001b[0mi\u001b[0m \u001b[1;32min\u001b[0m \u001b[0mb6\u001b[0m\u001b[1;33m:\u001b[0m\u001b[1;33m\u001b[0m\u001b[1;33m\u001b[0m\u001b[0m\n",
      "\u001b[1;32m~\\Anaconda3\\lib\\site-packages\\selenium\\webdriver\\remote\\webelement.py\u001b[0m in \u001b[0;36mclick\u001b[1;34m(self)\u001b[0m\n\u001b[0;32m     78\u001b[0m     \u001b[1;32mdef\u001b[0m \u001b[0mclick\u001b[0m\u001b[1;33m(\u001b[0m\u001b[0mself\u001b[0m\u001b[1;33m)\u001b[0m\u001b[1;33m:\u001b[0m\u001b[1;33m\u001b[0m\u001b[1;33m\u001b[0m\u001b[0m\n\u001b[0;32m     79\u001b[0m         \u001b[1;34m\"\"\"Clicks the element.\"\"\"\u001b[0m\u001b[1;33m\u001b[0m\u001b[1;33m\u001b[0m\u001b[0m\n\u001b[1;32m---> 80\u001b[1;33m         \u001b[0mself\u001b[0m\u001b[1;33m.\u001b[0m\u001b[0m_execute\u001b[0m\u001b[1;33m(\u001b[0m\u001b[0mCommand\u001b[0m\u001b[1;33m.\u001b[0m\u001b[0mCLICK_ELEMENT\u001b[0m\u001b[1;33m)\u001b[0m\u001b[1;33m\u001b[0m\u001b[1;33m\u001b[0m\u001b[0m\n\u001b[0m\u001b[0;32m     81\u001b[0m \u001b[1;33m\u001b[0m\u001b[0m\n\u001b[0;32m     82\u001b[0m     \u001b[1;32mdef\u001b[0m \u001b[0msubmit\u001b[0m\u001b[1;33m(\u001b[0m\u001b[0mself\u001b[0m\u001b[1;33m)\u001b[0m\u001b[1;33m:\u001b[0m\u001b[1;33m\u001b[0m\u001b[1;33m\u001b[0m\u001b[0m\n",
      "\u001b[1;32m~\\Anaconda3\\lib\\site-packages\\selenium\\webdriver\\remote\\webelement.py\u001b[0m in \u001b[0;36m_execute\u001b[1;34m(self, command, params)\u001b[0m\n\u001b[0;32m    631\u001b[0m             \u001b[0mparams\u001b[0m \u001b[1;33m=\u001b[0m \u001b[1;33m{\u001b[0m\u001b[1;33m}\u001b[0m\u001b[1;33m\u001b[0m\u001b[1;33m\u001b[0m\u001b[0m\n\u001b[0;32m    632\u001b[0m         \u001b[0mparams\u001b[0m\u001b[1;33m[\u001b[0m\u001b[1;34m'id'\u001b[0m\u001b[1;33m]\u001b[0m \u001b[1;33m=\u001b[0m \u001b[0mself\u001b[0m\u001b[1;33m.\u001b[0m\u001b[0m_id\u001b[0m\u001b[1;33m\u001b[0m\u001b[1;33m\u001b[0m\u001b[0m\n\u001b[1;32m--> 633\u001b[1;33m         \u001b[1;32mreturn\u001b[0m \u001b[0mself\u001b[0m\u001b[1;33m.\u001b[0m\u001b[0m_parent\u001b[0m\u001b[1;33m.\u001b[0m\u001b[0mexecute\u001b[0m\u001b[1;33m(\u001b[0m\u001b[0mcommand\u001b[0m\u001b[1;33m,\u001b[0m \u001b[0mparams\u001b[0m\u001b[1;33m)\u001b[0m\u001b[1;33m\u001b[0m\u001b[1;33m\u001b[0m\u001b[0m\n\u001b[0m\u001b[0;32m    634\u001b[0m \u001b[1;33m\u001b[0m\u001b[0m\n\u001b[0;32m    635\u001b[0m     \u001b[1;32mdef\u001b[0m \u001b[0mfind_element\u001b[0m\u001b[1;33m(\u001b[0m\u001b[0mself\u001b[0m\u001b[1;33m,\u001b[0m \u001b[0mby\u001b[0m\u001b[1;33m=\u001b[0m\u001b[0mBy\u001b[0m\u001b[1;33m.\u001b[0m\u001b[0mID\u001b[0m\u001b[1;33m,\u001b[0m \u001b[0mvalue\u001b[0m\u001b[1;33m=\u001b[0m\u001b[1;32mNone\u001b[0m\u001b[1;33m)\u001b[0m\u001b[1;33m:\u001b[0m\u001b[1;33m\u001b[0m\u001b[1;33m\u001b[0m\u001b[0m\n",
      "\u001b[1;32m~\\Anaconda3\\lib\\site-packages\\selenium\\webdriver\\remote\\webdriver.py\u001b[0m in \u001b[0;36mexecute\u001b[1;34m(self, driver_command, params)\u001b[0m\n\u001b[0;32m    319\u001b[0m         \u001b[0mresponse\u001b[0m \u001b[1;33m=\u001b[0m \u001b[0mself\u001b[0m\u001b[1;33m.\u001b[0m\u001b[0mcommand_executor\u001b[0m\u001b[1;33m.\u001b[0m\u001b[0mexecute\u001b[0m\u001b[1;33m(\u001b[0m\u001b[0mdriver_command\u001b[0m\u001b[1;33m,\u001b[0m \u001b[0mparams\u001b[0m\u001b[1;33m)\u001b[0m\u001b[1;33m\u001b[0m\u001b[1;33m\u001b[0m\u001b[0m\n\u001b[0;32m    320\u001b[0m         \u001b[1;32mif\u001b[0m \u001b[0mresponse\u001b[0m\u001b[1;33m:\u001b[0m\u001b[1;33m\u001b[0m\u001b[1;33m\u001b[0m\u001b[0m\n\u001b[1;32m--> 321\u001b[1;33m             \u001b[0mself\u001b[0m\u001b[1;33m.\u001b[0m\u001b[0merror_handler\u001b[0m\u001b[1;33m.\u001b[0m\u001b[0mcheck_response\u001b[0m\u001b[1;33m(\u001b[0m\u001b[0mresponse\u001b[0m\u001b[1;33m)\u001b[0m\u001b[1;33m\u001b[0m\u001b[1;33m\u001b[0m\u001b[0m\n\u001b[0m\u001b[0;32m    322\u001b[0m             response['value'] = self._unwrap_value(\n\u001b[0;32m    323\u001b[0m                 response.get('value', None))\n",
      "\u001b[1;32m~\\Anaconda3\\lib\\site-packages\\selenium\\webdriver\\remote\\errorhandler.py\u001b[0m in \u001b[0;36mcheck_response\u001b[1;34m(self, response)\u001b[0m\n\u001b[0;32m    240\u001b[0m                 \u001b[0malert_text\u001b[0m \u001b[1;33m=\u001b[0m \u001b[0mvalue\u001b[0m\u001b[1;33m[\u001b[0m\u001b[1;34m'alert'\u001b[0m\u001b[1;33m]\u001b[0m\u001b[1;33m.\u001b[0m\u001b[0mget\u001b[0m\u001b[1;33m(\u001b[0m\u001b[1;34m'text'\u001b[0m\u001b[1;33m)\u001b[0m\u001b[1;33m\u001b[0m\u001b[1;33m\u001b[0m\u001b[0m\n\u001b[0;32m    241\u001b[0m             \u001b[1;32mraise\u001b[0m \u001b[0mexception_class\u001b[0m\u001b[1;33m(\u001b[0m\u001b[0mmessage\u001b[0m\u001b[1;33m,\u001b[0m \u001b[0mscreen\u001b[0m\u001b[1;33m,\u001b[0m \u001b[0mstacktrace\u001b[0m\u001b[1;33m,\u001b[0m \u001b[0malert_text\u001b[0m\u001b[1;33m)\u001b[0m\u001b[1;33m\u001b[0m\u001b[1;33m\u001b[0m\u001b[0m\n\u001b[1;32m--> 242\u001b[1;33m         \u001b[1;32mraise\u001b[0m \u001b[0mexception_class\u001b[0m\u001b[1;33m(\u001b[0m\u001b[0mmessage\u001b[0m\u001b[1;33m,\u001b[0m \u001b[0mscreen\u001b[0m\u001b[1;33m,\u001b[0m \u001b[0mstacktrace\u001b[0m\u001b[1;33m)\u001b[0m\u001b[1;33m\u001b[0m\u001b[1;33m\u001b[0m\u001b[0m\n\u001b[0m\u001b[0;32m    243\u001b[0m \u001b[1;33m\u001b[0m\u001b[0m\n\u001b[0;32m    244\u001b[0m     \u001b[1;32mdef\u001b[0m \u001b[0m_value_or_default\u001b[0m\u001b[1;33m(\u001b[0m\u001b[0mself\u001b[0m\u001b[1;33m,\u001b[0m \u001b[0mobj\u001b[0m\u001b[1;33m,\u001b[0m \u001b[0mkey\u001b[0m\u001b[1;33m,\u001b[0m \u001b[0mdefault\u001b[0m\u001b[1;33m)\u001b[0m\u001b[1;33m:\u001b[0m\u001b[1;33m\u001b[0m\u001b[1;33m\u001b[0m\u001b[0m\n",
      "\u001b[1;31mStaleElementReferenceException\u001b[0m: Message: stale element reference: element is not attached to the page document\n  (Session info: MicrosoftEdge=92.0.902.62)\n"
     ]
    }
   ],
   "source": [
    "next1 = driver.find_element_by_xpath('//a[@class=\"_1LKTO3\"]')\n",
    "brand6 = []\n",
    "pdesc = []\n",
    "price = []\n",
    "discount = []\n",
    "prices = []\n",
    "b6 = driver.find_elements_by_xpath('//div[@class=\"_2WkVRV\"]')\n",
    "for i in b6:\n",
    "    brand6.append(i.text)\n",
    "pd = driver.find_elements_by_xpath('//a[@class=IRpwTa]')\n",
    "for i in pd:\n",
    "    pdesc.append(i.text)\n",
    "pri = driver.find_elements_by_xpath('//a[@class=\"_25b18c\"]')\n",
    "for i in pri:\n",
    "    prices.append(i.text)\n",
    "next1 = driver.find_element_by_xpath('//a[@class=\"_1LKTO3\"]')\n",
    "next1.click()\n",
    "b62 = driver.find_elements_by_xpath('//div[@class=\"_2WkVRV\"]')\n",
    "for i in b62:\n",
    "    brand6.append(i.text)\n",
    "pd = driver.find_elements_by_xpath('//a[@class=IRpwTa]')\n",
    "for i in pd:\n",
    "    pdesc.append(i.text)\n",
    "pri = driver.find_elements_by_xpath('//a[@class=\"_25b18c\"]')\n",
    "for i in pri:\n",
    "    prices.append(i.text)\n",
    "next1 = driver.find_element_by_xpath('//a[@class=\"_1LKTO3\"]')\n",
    "next1.click()\n",
    "b6 = driver.find_elements_by_xpath('//div[@class=\"_2WkVRV\"]')\n",
    "for i in b6:\n",
    "    brand6.append(i.text)\n",
    "pd = driver.find_elements_by_xpath('//a[@class=IRpwTa]')\n",
    "for i in pd:\n",
    "    pdesc.append(i.text)\n",
    "pri = driver.find_elements_by_xpath('//a[@class=\"_25b18c\"]')\n",
    "for i in pri:\n",
    "    prices.append(i.text)"
   ]
  },
  {
   "cell_type": "markdown",
   "metadata": {},
   "source": [
    "# Answer to Q7"
   ]
  },
  {
   "cell_type": "code",
   "execution_count": 299,
   "metadata": {},
   "outputs": [
    {
     "data": {
      "text/plain": [
       "120"
      ]
     },
     "execution_count": 299,
     "metadata": {},
     "output_type": "execute_result"
    }
   ],
   "source": []
  },
  {
   "cell_type": "code",
   "execution_count": null,
   "metadata": {},
   "outputs": [],
   "source": []
  }
 ],
 "metadata": {
  "kernelspec": {
   "display_name": "Python 3",
   "language": "python",
   "name": "python3"
  },
  "language_info": {
   "codemirror_mode": {
    "name": "ipython",
    "version": 3
   },
   "file_extension": ".py",
   "mimetype": "text/x-python",
   "name": "python",
   "nbconvert_exporter": "python",
   "pygments_lexer": "ipython3",
   "version": "3.8.5"
  }
 },
 "nbformat": 4,
 "nbformat_minor": 4
}
